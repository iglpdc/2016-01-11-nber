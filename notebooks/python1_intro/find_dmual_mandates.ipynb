{
 "cells": [
  {
   "cell_type": "markdown",
   "metadata": {},
   "source": [
    "# Find \"Dual Mandate\" in FOMC Statements\n",
    "\n",
    "> find FOMC statements which include the phrase \"dual mandate\""
   ]
  },
  {
   "cell_type": "code",
   "execution_count": 34,
   "metadata": {
    "collapsed": false
   },
   "outputs": [
    {
     "data": {
      "text/plain": [
       "u'/Users/snorlax13mba/nber_swc_demo_data'"
      ]
     },
     "execution_count": 34,
     "metadata": {},
     "output_type": "execute_result"
    }
   ],
   "source": [
    "%pwd"
   ]
  },
  {
   "cell_type": "code",
   "execution_count": 35,
   "metadata": {
    "collapsed": true
   },
   "outputs": [],
   "source": [
    "path_to_statements = \"./demo_data/fomc_statements/\""
   ]
  },
  {
   "cell_type": "code",
   "execution_count": 36,
   "metadata": {
    "collapsed": false
   },
   "outputs": [
    {
     "data": {
      "text/plain": [
       "str"
      ]
     },
     "execution_count": 36,
     "metadata": {},
     "output_type": "execute_result"
    }
   ],
   "source": [
    "type(path_to_statements)"
   ]
  },
  {
   "cell_type": "code",
   "execution_count": 37,
   "metadata": {
    "collapsed": true
   },
   "outputs": [],
   "source": [
    "import os"
   ]
  },
  {
   "cell_type": "code",
   "execution_count": 38,
   "metadata": {
    "collapsed": false
   },
   "outputs": [
    {
     "data": {
      "text/plain": [
       "['r_20090128',\n",
       " 'r_20090318',\n",
       " 'r_20090429',\n",
       " 'r_20090624',\n",
       " 'r_20090812',\n",
       " 'r_20090923',\n",
       " 'r_20091104',\n",
       " 'r_20091216',\n",
       " 'r_20100127',\n",
       " 'r_20100316',\n",
       " 'r_20100428',\n",
       " 'r_20100623',\n",
       " 'r_20100810',\n",
       " 'r_20100921',\n",
       " 'r_20101103',\n",
       " 'r_20101214',\n",
       " 'r_20110126',\n",
       " 'r_20110315',\n",
       " 'r_20110427',\n",
       " 'r_20110622',\n",
       " 'r_20110809',\n",
       " 'r_20110921',\n",
       " 'r_20111102',\n",
       " 'r_20111213',\n",
       " 'r_20120125',\n",
       " 'r_20120313',\n",
       " 'r_20120425',\n",
       " 'r_20120620',\n",
       " 'r_20120801',\n",
       " 'r_20120913',\n",
       " 'r_20121024',\n",
       " 'r_20121212',\n",
       " 'r_20130130',\n",
       " 'r_20130320',\n",
       " 'r_20130501',\n",
       " 'r_20130619',\n",
       " 'r_20130731',\n",
       " 'r_20130918',\n",
       " 'r_20131030',\n",
       " 'r_20131218',\n",
       " 'r_20140129',\n",
       " 'r_20140319',\n",
       " 'r_20140430',\n",
       " 'r_20140618']"
      ]
     },
     "execution_count": 38,
     "metadata": {},
     "output_type": "execute_result"
    }
   ],
   "source": [
    "os.listdir(path_to_statements)"
   ]
  },
  {
   "cell_type": "code",
   "execution_count": 39,
   "metadata": {
    "collapsed": true
   },
   "outputs": [],
   "source": [
    "file_list = os.listdir(path_to_statements)"
   ]
  },
  {
   "cell_type": "code",
   "execution_count": 40,
   "metadata": {
    "collapsed": false
   },
   "outputs": [
    {
     "data": {
      "text/plain": [
       "list"
      ]
     },
     "execution_count": 40,
     "metadata": {},
     "output_type": "execute_result"
    }
   ],
   "source": [
    "type(file_list)"
   ]
  },
  {
   "cell_type": "code",
   "execution_count": 41,
   "metadata": {
    "collapsed": false
   },
   "outputs": [
    {
     "data": {
      "text/plain": [
       "['r_20090128', 'r_20090318', 'r_20090429']"
      ]
     },
     "execution_count": 41,
     "metadata": {},
     "output_type": "execute_result"
    }
   ],
   "source": [
    "file_list[0:3]"
   ]
  },
  {
   "cell_type": "code",
   "execution_count": 42,
   "metadata": {
    "collapsed": false
   },
   "outputs": [
    {
     "name": "stdout",
     "output_type": "stream",
     "text": [
      "r_20090128\n",
      "r_20090318\n",
      "r_20090429\n",
      "r_20090624\n"
     ]
    }
   ],
   "source": [
    "for file in file_list[0:4]:\n",
    "    print(file)"
   ]
  },
  {
   "cell_type": "code",
   "execution_count": 43,
   "metadata": {
    "collapsed": false
   },
   "outputs": [
    {
     "data": {
      "text/plain": [
       "44"
      ]
     },
     "execution_count": 43,
     "metadata": {},
     "output_type": "execute_result"
    }
   ],
   "source": [
    "len(file_list)"
   ]
  },
  {
   "cell_type": "code",
   "execution_count": 44,
   "metadata": {
    "collapsed": false
   },
   "outputs": [
    {
     "data": {
      "text/plain": [
       "['r_20090624',\n",
       " 'r_20100428',\n",
       " 'r_20110315',\n",
       " 'r_20120125',\n",
       " 'r_20121212',\n",
       " 'r_20131030']"
      ]
     },
     "execution_count": 44,
     "metadata": {},
     "output_type": "execute_result"
    }
   ],
   "source": [
    "file_list[3::7]"
   ]
  },
  {
   "cell_type": "code",
   "execution_count": 45,
   "metadata": {
    "collapsed": false
   },
   "outputs": [
    {
     "data": {
      "text/plain": [
       "['r_20140129', 'r_20140319', 'r_20140430', 'r_20140618']"
      ]
     },
     "execution_count": 45,
     "metadata": {},
     "output_type": "execute_result"
    }
   ],
   "source": [
    "file_list[-4:]"
   ]
  },
  {
   "cell_type": "code",
   "execution_count": 46,
   "metadata": {
    "collapsed": true
   },
   "outputs": [],
   "source": [
    "arbitrary_list = [\"Shoes\", 17, range(5)]"
   ]
  },
  {
   "cell_type": "code",
   "execution_count": 47,
   "metadata": {
    "collapsed": false
   },
   "outputs": [
    {
     "name": "stdout",
     "output_type": "stream",
     "text": [
      "Shoes\n",
      "17\n",
      "[0, 1, 2, 3, 4]\n"
     ]
    }
   ],
   "source": [
    "for thing in arbitrary_list:\n",
    "    print(thing)"
   ]
  },
  {
   "cell_type": "code",
   "execution_count": 48,
   "metadata": {
    "collapsed": false
   },
   "outputs": [
    {
     "name": "stdout",
     "output_type": "stream",
     "text": [
      "Shoes\n",
      "17\n",
      "[0, 1, 2, 3, 4]\n"
     ]
    }
   ],
   "source": [
    "for _ in arbitrary_list:\n",
    "    print _"
   ]
  },
  {
   "cell_type": "markdown",
   "metadata": {},
   "source": [
    "### Dictionaries"
   ]
  },
  {
   "cell_type": "code",
   "execution_count": 49,
   "metadata": {
    "collapsed": true
   },
   "outputs": [],
   "source": [
    "gdp = {}"
   ]
  },
  {
   "cell_type": "code",
   "execution_count": 50,
   "metadata": {
    "collapsed": true
   },
   "outputs": [],
   "source": [
    "gdp[\"US\"] = 16.1"
   ]
  },
  {
   "cell_type": "code",
   "execution_count": 51,
   "metadata": {
    "collapsed": true
   },
   "outputs": [],
   "source": [
    "gdp[\"UK\"] = 2.5"
   ]
  },
  {
   "cell_type": "code",
   "execution_count": 52,
   "metadata": {
    "collapsed": false
   },
   "outputs": [
    {
     "data": {
      "text/plain": [
       "{'UK': 2.5, 'US': 16.1}"
      ]
     },
     "execution_count": 52,
     "metadata": {},
     "output_type": "execute_result"
    }
   ],
   "source": [
    "gdp"
   ]
  },
  {
   "cell_type": "code",
   "execution_count": 53,
   "metadata": {
    "collapsed": false
   },
   "outputs": [
    {
     "data": {
      "text/plain": [
       "dict"
      ]
     },
     "execution_count": 53,
     "metadata": {},
     "output_type": "execute_result"
    }
   ],
   "source": [
    "type(gdp)"
   ]
  },
  {
   "cell_type": "code",
   "execution_count": 54,
   "metadata": {
    "collapsed": false
   },
   "outputs": [
    {
     "data": {
      "text/plain": [
       "2.5"
      ]
     },
     "execution_count": 54,
     "metadata": {},
     "output_type": "execute_result"
    }
   ],
   "source": [
    "gdp[\"UK\"]"
   ]
  },
  {
   "cell_type": "code",
   "execution_count": 55,
   "metadata": {
    "collapsed": false
   },
   "outputs": [
    {
     "ename": "KeyError",
     "evalue": "'BRL'",
     "output_type": "error",
     "traceback": [
      "\u001b[0;31m---------------------------------------------------------------------------\u001b[0m",
      "\u001b[0;31mKeyError\u001b[0m                                  Traceback (most recent call last)",
      "\u001b[0;32m<ipython-input-55-fb902cef4e94>\u001b[0m in \u001b[0;36m<module>\u001b[0;34m()\u001b[0m\n\u001b[0;32m----> 1\u001b[0;31m \u001b[0mgdp\u001b[0m\u001b[0;34m[\u001b[0m\u001b[0;34m\"BRL\"\u001b[0m\u001b[0;34m]\u001b[0m\u001b[0;34m\u001b[0m\u001b[0m\n\u001b[0m",
      "\u001b[0;31mKeyError\u001b[0m: 'BRL'"
     ]
    }
   ],
   "source": [
    "gdp[\"BRL\"]"
   ]
  },
  {
   "cell_type": "markdown",
   "metadata": {},
   "source": [
    "calling for a dictionary element using a non-existent key produces an error (above)\n",
    "\n",
    "however using the .get() method on a non-existent key returns None (below)"
   ]
  },
  {
   "cell_type": "code",
   "execution_count": 56,
   "metadata": {
    "collapsed": false
   },
   "outputs": [
    {
     "name": "stdout",
     "output_type": "stream",
     "text": [
      "None\n"
     ]
    }
   ],
   "source": [
    "print(gdp.get(\"BRL\"))"
   ]
  },
  {
   "cell_type": "code",
   "execution_count": 57,
   "metadata": {
    "collapsed": true
   },
   "outputs": [],
   "source": [
    "statements = {}   # define an empty dictionary"
   ]
  },
  {
   "cell_type": "code",
   "execution_count": 58,
   "metadata": {
    "collapsed": false
   },
   "outputs": [],
   "source": [
    "for _ in file_list:\n",
    "    # print(path_to_statements + _)\n",
    "    with open(path_to_statements + _) as fh:\n",
    "        text = fh.read()\n",
    "        text_clean = text.replace(\"\\n\", \" \")\n",
    "        statements[_] = text_clean\n"
   ]
  },
  {
   "cell_type": "code",
   "execution_count": 59,
   "metadata": {
    "collapsed": false
   },
   "outputs": [
    {
     "data": {
      "text/plain": [
       "\"The Federal Open Market Committee decided today to keep its target range for the federal funds rate at 0 to 1/4 percent. The Committee continues to anticipate that economic conditions are likely to warrant exceptionally low levels of the federal funds rate for some time.  Information received since the Committee met in December suggests that the economy has weakened further. Industrial production, housing starts, and employment have continued to decline steeply, as consumers and businesses have cut back spending. Furthermore, global demand appears to be slowing significantly. Conditions in some financial markets have improved, in part reflecting government efforts to provide liquidity and strengthen financial institutions; nevertheless, credit conditions for households and firms remain extremely tight. The Committee anticipates that a gradual recovery in economic activity will begin later this year, but the downside risks to that outlook are significant.  In light of the declines in the prices of energy and other commodities in recent months and the prospects for considerable economic slack, the Committee expects that inflation pressures will remain subdued in coming quarters. Moreover, the Committee sees some risk that inflation could persist for a time below rates that best foster economic growth and price stability in the longer term.  The Federal Reserve will employ all available tools to promote the resumption of sustainable economic growth and to preserve price stability. The focus of the Committee's policy is to support the functioning of financial markets and stimulate the economy through open market operations and other measures that are likely to keep the size of the Federal Reserve's balance sheet at a high level. The Federal Reserve continues to purchase large quantities of agency debt and mortgage-backed securities to provide support to the mortgage and housing markets, and it stands ready to expand the quantity of such purchases and the duration of the purchase program as conditions warrant. The Committee also is prepared to purchase longer-term Treasury securities if evolving circumstances indicate that such transactions would be particularly effective in improving conditions in private credit markets. The Federal Reserve will be implementing the Term Asset-Backed Securities Loan Facility to facilitate the extension of credit to households and small businesses. The Committee will continue to monitor carefully the size and composition of the Federal Reserve's balance sheet in light of evolving financial market developments and to assess whether expansions of or modifications to lending facilities would serve to further support credit markets and economic activity and help to preserve price stability.\""
      ]
     },
     "execution_count": 59,
     "metadata": {},
     "output_type": "execute_result"
    }
   ],
   "source": [
    "statements.get(\"r_20090128\")"
   ]
  },
  {
   "cell_type": "code",
   "execution_count": 60,
   "metadata": {
    "collapsed": false
   },
   "outputs": [
    {
     "data": {
      "text/plain": [
       "['r_20140129',\n",
       " 'r_20110622',\n",
       " 'r_20130619',\n",
       " 'r_20130130',\n",
       " 'r_20120620',\n",
       " 'r_20110315',\n",
       " 'r_20121024',\n",
       " 'r_20120125',\n",
       " 'r_20130501',\n",
       " 'r_20100810',\n",
       " 'r_20110427',\n",
       " 'r_20100428',\n",
       " 'r_20111213',\n",
       " 'r_20091104',\n",
       " 'r_20111102',\n",
       " 'r_20140319',\n",
       " 'r_20120801',\n",
       " 'r_20101214',\n",
       " 'r_20110809',\n",
       " 'r_20131030',\n",
       " 'r_20090812',\n",
       " 'r_20100127',\n",
       " 'r_20110921',\n",
       " 'r_20140430',\n",
       " 'r_20130320',\n",
       " 'r_20130731',\n",
       " 'r_20140618',\n",
       " 'r_20091216',\n",
       " 'r_20120913',\n",
       " 'r_20131218',\n",
       " 'r_20100921',\n",
       " 'r_20110126',\n",
       " 'r_20090128',\n",
       " 'r_20121212',\n",
       " 'r_20130918',\n",
       " 'r_20090429',\n",
       " 'r_20090624',\n",
       " 'r_20120425',\n",
       " 'r_20100316',\n",
       " 'r_20090923',\n",
       " 'r_20100623',\n",
       " 'r_20101103',\n",
       " 'r_20090318',\n",
       " 'r_20120313']"
      ]
     },
     "execution_count": 60,
     "metadata": {},
     "output_type": "execute_result"
    }
   ],
   "source": [
    "statements.keys()"
   ]
  },
  {
   "cell_type": "markdown",
   "metadata": {},
   "source": [
    "### <font color=\"red\"> IMPORTANT </font> re. Python 3\n",
    "\n",
    "In python 3, dictionary keys are not of the type \"list\" by default. \n",
    "If you are using python 3, put the function list() around every reference to the keys.\n",
    "\n",
    "for example, \n",
    "\n",
    "* in python 2:  `statements[statements.keys()[0]]`\n",
    "\n",
    "* in python 3: `statements[list(statements.keys())[0]]`\n"
   ]
  },
  {
   "cell_type": "code",
   "execution_count": 61,
   "metadata": {
    "collapsed": false
   },
   "outputs": [
    {
     "data": {
      "text/plain": [
       "\"Information received since the Federal Open Market Committee met in December indicates that growth in economic activity picked up in recent quarters. Labor market indicators were mixed but on balance showed further improvement. The unemployment rate declined but remains elevated. Household spending and business fixed investment advanced more quickly in recent months, while the recovery in the housing sector slowed somewhat. Fiscal policy is restraining economic growth, although the extent of restraint is diminishing. Inflation has been running below the Committee's longer-run objective, but longer-term inflation expectations have remained stable.  Consistent with its statutory mandate, the Committee seeks to foster maximum employment and price stability. The Committee expects that, with appropriate policy accommodation, economic activity will expand at a moderate pace and the unemployment rate will gradually decline toward levels the Committee judges consistent with its dual mandate. The Committee sees the risks to the outlook for the economy and the labor market as having become more nearly balanced. The Committee recognizes that inflation persistently below its 2 percent objective could pose risks to economic performance, and it is monitoring inflation developments carefully for evidence that inflation will move back toward its objective over the medium term.  Taking into account the extent of federal fiscal retrenchment since the inception of its current asset purchase program, the Committee continues to see the improvement in economic activity and labor market conditions over that period as consistent with growing underlying strength in the broader economy. In light of the cumulative progress toward maximum employment and the improvement in the outlook for labor market conditions, the Committee decided to make a further measured reduction in the pace of its asset purchases. Beginning in February, the Committee will add to its holdings of agency mortgage-backed securities at a pace of $30 billion per month rather than $35 billion per month, and will add to its holdings of longer-term Treasury securities at a pace of $35 billion per month rather than $40 billion per month. The Committee is maintaining its existing policy of reinvesting principal payments from its holdings of agency debt and agency mortgage-backed securities in agency mortgage-backed securities and of rolling over maturing Treasury securities at auction. The Committee's sizable and still-increasing holdings of longer-term securities should maintain downward pressure on longer-term interest rates, support mortgage markets, and help to make broader financial conditions more accommodative, which in turn should promote a stronger economic recovery and help to ensure that inflation, over time, is at the rate most consistent with the Committee's dual mandate.  The Committee will closely monitor incoming information on economic and financial developments in coming months and will continue its purchases of Treasury and agency mortgage-backed securities, and employ its other policy tools as appropriate, until the outlook for the labor market has improved substantially in a context of price stability. If incoming information broadly supports the Committee's expectation of ongoing improvement in labor market conditions and inflation moving back toward its longer-run objective, the Committee will likely reduce the pace of asset purchases in further measured steps at future meetings. However, asset purchases are not on a preset course, and the Committee's decisions about their pace will remain contingent on the Committee's outlook for the labor market and inflation as well as its assessment of the likely efficacy and costs of such purchases.  To support continued progress toward maximum employment and price stability, the Committee today reaffirmed its view that a highly accommodative stance of monetary policy will remain appropriate for a considerable time after the asset purchase program ends and the economic recovery strengthens. The Committee also reaffirmed its expectation that the current exceptionally low target range for the federal funds rate of 0 to 1/4 percent will be appropriate at least as long as the unemployment rate remains above 6-1/2 percent, inflation between one and two years ahead is projected to be no more than a half percentage point above the Committee's 2 percent longer-run goal, and longer-term inflation expectations continue to be well anchored. In determining how long to maintain a highly accommodative stance of monetary policy, the Committee will also consider other information, including additional measures of labor market conditions, indicators of inflation pressures and inflation expectations, and readings on financial developments. The Committee continues to anticipate, based on its assessment of these factors, that it likely will be appropriate to maintain the current target range for the federal funds rate well past the time that the unemployment rate declines below 6-1/2 percent, especially if projected inflation continues to run below the Committee's 2 percent longer-run goal. When the Committee decides to begin to remove policy accommodation, it will take a balanced approach consistent with its longer-run goals of maximum employment and inflation of 2 percent.\""
      ]
     },
     "execution_count": 61,
     "metadata": {},
     "output_type": "execute_result"
    }
   ],
   "source": [
    "statements[statements.keys()[0]]"
   ]
  },
  {
   "cell_type": "code",
   "execution_count": 62,
   "metadata": {
    "collapsed": false
   },
   "outputs": [
    {
     "name": "stdout",
     "output_type": "stream",
     "text": [
      "r_20140129 contains 'dual mandate'\n",
      "r_20110622 contains 'dual mandate'\n",
      "r_20130619 contains 'dual mandate'\n",
      "r_20130130 contains 'dual mandate'\n",
      "r_20120620 contains 'dual mandate'\n",
      "r_20110315 contains 'dual mandate'\n",
      "r_20121024 contains 'dual mandate'\n",
      "r_20120125 contains 'dual mandate'\n",
      "r_20130501 contains 'dual mandate'\n",
      "r_20100810 does not contain 'dual mandate'\n",
      "r_20110427 contains 'dual mandate'\n",
      "r_20100428 does not contain 'dual mandate'\n",
      "r_20111213 contains 'dual mandate'\n",
      "r_20091104 does not contain 'dual mandate'\n",
      "r_20111102 contains 'dual mandate'\n",
      "r_20140319 contains 'dual mandate'\n",
      "r_20120801 contains 'dual mandate'\n",
      "r_20101214 contains 'dual mandate'\n",
      "r_20110809 contains 'dual mandate'\n",
      "r_20131030 contains 'dual mandate'\n",
      "r_20090812 does not contain 'dual mandate'\n",
      "r_20100127 does not contain 'dual mandate'\n",
      "r_20110921 contains 'dual mandate'\n",
      "r_20140430 contains 'dual mandate'\n",
      "r_20130320 contains 'dual mandate'\n",
      "r_20130731 contains 'dual mandate'\n",
      "r_20140618 contains 'dual mandate'\n",
      "r_20091216 does not contain 'dual mandate'\n",
      "r_20120913 contains 'dual mandate'\n",
      "r_20131218 contains 'dual mandate'\n",
      "r_20100921 does not contain 'dual mandate'\n",
      "r_20110126 contains 'dual mandate'\n",
      "r_20090128 does not contain 'dual mandate'\n",
      "r_20121212 contains 'dual mandate'\n",
      "r_20130918 contains 'dual mandate'\n",
      "r_20090429 does not contain 'dual mandate'\n",
      "r_20090624 does not contain 'dual mandate'\n",
      "r_20120425 contains 'dual mandate'\n",
      "r_20100316 does not contain 'dual mandate'\n",
      "r_20090923 does not contain 'dual mandate'\n",
      "r_20100623 does not contain 'dual mandate'\n",
      "r_20101103 contains 'dual mandate'\n",
      "r_20090318 does not contain 'dual mandate'\n",
      "r_20120313 contains 'dual mandate'\n"
     ]
    }
   ],
   "source": [
    "for _ in statements.keys():\n",
    "    # print(_)\n",
    "    st = statements.get(_)\n",
    "    if st.find(\"dual mandate\") >= 0:\n",
    "        print(_ + \" contains 'dual mandate'\")\n",
    "    else:\n",
    "        print(_ + \" does not contain 'dual mandate'\")\n",
    "    "
   ]
  },
  {
   "cell_type": "code",
   "execution_count": null,
   "metadata": {
    "collapsed": true
   },
   "outputs": [],
   "source": []
  },
  {
   "cell_type": "markdown",
   "metadata": {},
   "source": [
    "# the one-line version\n",
    "\n",
    "Note that all of the above can be reduced to the following \"one-liner\":"
   ]
  },
  {
   "cell_type": "code",
   "execution_count": 63,
   "metadata": {
    "collapsed": true
   },
   "outputs": [],
   "source": [
    "dual = [statements[d] for d in statements \\\n",
    "        if statements[d].find(\"dual mandate\") >= 0]"
   ]
  },
  {
   "cell_type": "code",
   "execution_count": 64,
   "metadata": {
    "collapsed": false
   },
   "outputs": [
    {
     "data": {
      "text/plain": [
       "30"
      ]
     },
     "execution_count": 64,
     "metadata": {},
     "output_type": "execute_result"
    }
   ],
   "source": [
    "len(dual)  # how many statements contain \"dual mandate\"?"
   ]
  },
  {
   "cell_type": "code",
   "execution_count": 65,
   "metadata": {
    "collapsed": false
   },
   "outputs": [
    {
     "data": {
      "text/plain": [
       "44"
      ]
     },
     "execution_count": 65,
     "metadata": {},
     "output_type": "execute_result"
    }
   ],
   "source": [
    "len(statements.keys())  # how many statements in total?"
   ]
  },
  {
   "cell_type": "code",
   "execution_count": null,
   "metadata": {
    "collapsed": false
   },
   "outputs": [],
   "source": []
  },
  {
   "cell_type": "code",
   "execution_count": null,
   "metadata": {
    "collapsed": false
   },
   "outputs": [],
   "source": []
  },
  {
   "cell_type": "code",
   "execution_count": null,
   "metadata": {
    "collapsed": true
   },
   "outputs": [],
   "source": []
  }
 ],
 "metadata": {
  "kernelspec": {
   "display_name": "Python 2",
   "language": "python",
   "name": "python2"
  },
  "language_info": {
   "codemirror_mode": {
    "name": "ipython",
    "version": 2
   },
   "file_extension": ".py",
   "mimetype": "text/x-python",
   "name": "python",
   "nbconvert_exporter": "python",
   "pygments_lexer": "ipython2",
   "version": "2.7.10"
  }
 },
 "nbformat": 4,
 "nbformat_minor": 0
}
