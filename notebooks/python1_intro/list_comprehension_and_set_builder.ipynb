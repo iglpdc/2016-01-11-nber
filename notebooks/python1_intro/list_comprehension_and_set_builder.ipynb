{
 "metadata": {
  "name": "",
  "signature": "sha256:5fbe41dc49066df7feed87f133bb9dca67035d6bbcba2f82a5866ae4956375b0"
 },
 "nbformat": 3,
 "nbformat_minor": 0,
 "worksheets": [
  {
   "cells": [
    {
     "cell_type": "markdown",
     "metadata": {},
     "source": [
      "### Python List Comprehension and Set-Builder Notation"
     ]
    },
    {
     "cell_type": "markdown",
     "metadata": {},
     "source": [
      "We frequently see expressions in [set-builder notation](https://en.wikipedia.org/wiki/Set-builder_notation) such as  \n",
      "\n",
      "$\n",
      "S = \\{x^2 + 1 \\mid x \\in \\mathbb{N} , x < 10 , x \\ne 3\\}\n",
      "$\n",
      "\n",
      "This can be expressed cleanly as a python list comprehension"
     ]
    },
    {
     "cell_type": "code",
     "collapsed": false,
     "input": [
      "S = [(x**2 + 1) for x in range(1, 10) if x != 3]"
     ],
     "language": "python",
     "metadata": {},
     "outputs": [],
     "prompt_number": 9
    },
    {
     "cell_type": "code",
     "collapsed": false,
     "input": [
      "print S"
     ],
     "language": "python",
     "metadata": {},
     "outputs": [
      {
       "output_type": "stream",
       "stream": "stdout",
       "text": [
        "[2, 5, 17, 26, 37, 50, 65, 82]\n"
       ]
      }
     ],
     "prompt_number": 10
    },
    {
     "cell_type": "markdown",
     "metadata": {},
     "source": [
      "One could accomplish the same with a for loop and a list..."
     ]
    },
    {
     "cell_type": "code",
     "collapsed": false,
     "input": [
      "S_loop = []\n",
      "for x in range(1, 10):\n",
      "    if x != 3:\n",
      "        S_loop.append(x**2 + 1)"
     ],
     "language": "python",
     "metadata": {},
     "outputs": [],
     "prompt_number": 11
    },
    {
     "cell_type": "code",
     "collapsed": false,
     "input": [
      "print S_loop"
     ],
     "language": "python",
     "metadata": {},
     "outputs": [
      {
       "output_type": "stream",
       "stream": "stdout",
       "text": [
        "[2, 5, 17, 26, 37, 50, 65, 82]\n"
       ]
      }
     ],
     "prompt_number": 12
    },
    {
     "cell_type": "markdown",
     "metadata": {},
     "source": [
      "...however the list comprehension is arguably more expressive of our intent than the loop. Further, the list comprehension required one line while the loop required four."
     ]
    }
   ],
   "metadata": {}
  }
 ]
}