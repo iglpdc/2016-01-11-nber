{
 "cells": [
  {
   "cell_type": "markdown",
   "metadata": {},
   "source": [
    "# Introduction to functions"
   ]
  },
  {
   "cell_type": "markdown",
   "metadata": {},
   "source": [
    "A simple function.   \n",
    "Note:  \n",
    "* Function has a \"docstring\" listed between triple quotes \n",
    "* this function takes no arguments (nothing between parentheses)"
   ]
  },
  {
   "cell_type": "code",
   "execution_count": 1,
   "metadata": {
    "collapsed": true
   },
   "outputs": [],
   "source": [
    "def print_hi():\n",
    "    \"\"\"\n",
    "    Prints the word 'hello'.\n",
    "    \"\"\"\n",
    "    print(\"Hello\")"
   ]
  },
  {
   "cell_type": "code",
   "execution_count": 2,
   "metadata": {
    "collapsed": false
   },
   "outputs": [
    {
     "name": "stdout",
     "output_type": "stream",
     "text": [
      "Hello\n"
     ]
    }
   ],
   "source": [
    "print_hi()"
   ]
  },
  {
   "cell_type": "markdown",
   "metadata": {},
   "source": [
    "to see a function's docstring, call the function followd by a question mark:"
   ]
  },
  {
   "cell_type": "code",
   "execution_count": 4,
   "metadata": {
    "collapsed": true
   },
   "outputs": [],
   "source": [
    "print_hi?"
   ]
  },
  {
   "cell_type": "markdown",
   "metadata": {},
   "source": [
    "-----"
   ]
  },
  {
   "cell_type": "markdown",
   "metadata": {},
   "source": [
    "Define functions that calculate future value and present value"
   ]
  },
  {
   "cell_type": "code",
   "execution_count": 36,
   "metadata": {
    "collapsed": true
   },
   "outputs": [],
   "source": [
    "def pv(cashflow, rate, time):\n",
    "    \"\"\"\n",
    "    Return the present value of a cash flow for\n",
    "    a given interest rate and period of time\n",
    "    \"\"\"\n",
    "    discount_factor = (1 + rate) ** (-time)\n",
    "    pval = cashflow * discount_factor\n",
    "    return pval\n",
    "    \n",
    "    "
   ]
  },
  {
   "cell_type": "code",
   "execution_count": 37,
   "metadata": {
    "collapsed": false
   },
   "outputs": [
    {
     "data": {
      "text/plain": [
       "38.55432894295314"
      ]
     },
     "execution_count": 37,
     "metadata": {},
     "output_type": "execute_result"
    }
   ],
   "source": [
    "pv(100, 0.1, 10)"
   ]
  },
  {
   "cell_type": "code",
   "execution_count": 38,
   "metadata": {
    "collapsed": false
   },
   "outputs": [],
   "source": [
    "pval = \"The present value of a cash flow\""
   ]
  },
  {
   "cell_type": "code",
   "execution_count": 39,
   "metadata": {
    "collapsed": false
   },
   "outputs": [
    {
     "data": {
      "text/plain": [
       "'The present value of a cash flow'"
      ]
     },
     "execution_count": 39,
     "metadata": {},
     "output_type": "execute_result"
    }
   ],
   "source": [
    "pval"
   ]
  },
  {
   "cell_type": "code",
   "execution_count": 40,
   "metadata": {
    "collapsed": true
   },
   "outputs": [],
   "source": [
    "def fv(cashflow, rate, time):\n",
    "    \"\"\"\n",
    "    return the future value of a cashflow\n",
    "    \"\"\"\n",
    "    discount_factor = (1 + rate) ** (-time)\n",
    "    fval = cashflow / discount_factor\n",
    "    return fval"
   ]
  },
  {
   "cell_type": "code",
   "execution_count": 41,
   "metadata": {
    "collapsed": false
   },
   "outputs": [
    {
     "data": {
      "text/plain": [
       "259.3742460100002"
      ]
     },
     "execution_count": 41,
     "metadata": {},
     "output_type": "execute_result"
    }
   ],
   "source": [
    "fv(100, 0.1, 10)"
   ]
  },
  {
   "cell_type": "code",
   "execution_count": 42,
   "metadata": {
    "collapsed": true
   },
   "outputs": [],
   "source": [
    "# test of pv and fv functions\n",
    "r = 0.06\n",
    "t = 5\n",
    "val = 100\n",
    "assert(fv(pv(val, r, t), r, t)) == val"
   ]
  },
  {
   "cell_type": "markdown",
   "metadata": {},
   "source": [
    "So far, so good.   \n",
    "But what if you want to use a different way of calculating discount factors? \n",
    "* Annual Discounting\n",
    "* Continuous time discounting\n",
    "\n",
    "By making separate functions for calculating the discount factor, it is possible to *compose* functions.  This is a best-practice because it is easier to understand what is going on and it eliminates the need to write the same functionality more than once."
   ]
  },
  {
   "cell_type": "code",
   "execution_count": 5,
   "metadata": {
    "collapsed": true
   },
   "outputs": [],
   "source": [
    "def calc_df(r, t):\n",
    "    \"\"\"\n",
    "    calculate discount factor using annual discounting\n",
    "    \"\"\"\n",
    "    return (1 + r) **(-t)"
   ]
  },
  {
   "cell_type": "code",
   "execution_count": 6,
   "metadata": {
    "collapsed": true
   },
   "outputs": [],
   "source": [
    "def pv(cashflow, rate, time):\n",
    "    \"\"\"\n",
    "    Return the present value of a cash flow for\n",
    "    a given interest rate and period of time\n",
    "    \"\"\"\n",
    "    discount_factor = calc_df(rate, time)\n",
    "    pval = cashflow * discount_factor\n",
    "    return pval\n",
    "    "
   ]
  },
  {
   "cell_type": "code",
   "execution_count": 7,
   "metadata": {
    "collapsed": false
   },
   "outputs": [
    {
     "data": {
      "text/plain": [
       "38.55432894295314"
      ]
     },
     "execution_count": 7,
     "metadata": {},
     "output_type": "execute_result"
    }
   ],
   "source": [
    "pv(100, .1, 10)"
   ]
  },
  {
   "cell_type": "code",
   "execution_count": 8,
   "metadata": {
    "collapsed": true
   },
   "outputs": [],
   "source": [
    "def calc_df_cont(r, t):\n",
    "    \"\"\"\n",
    "    return continuous discount factor\n",
    "    \"\"\"\n",
    "    from math import exp\n",
    "    df = exp(-r * t)\n",
    "    return df"
   ]
  },
  {
   "cell_type": "code",
   "execution_count": 11,
   "metadata": {
    "collapsed": true
   },
   "outputs": [],
   "source": [
    "def pv(cashflow, rate, time, disc_func=calc_df):\n",
    "    \"\"\"\n",
    "    Return the present value of a cash flow for\n",
    "    a given interest rate and period of time.\n",
    "    Default discount factor calculation is annual discounting, though\n",
    "    other discounting functions may be passed as the named argument, disc_func\n",
    "    \"\"\"\n",
    "    discount_factor = disc_func(rate, time)\n",
    "    pval = cashflow * discount_factor\n",
    "    return pval"
   ]
  },
  {
   "cell_type": "code",
   "execution_count": 12,
   "metadata": {
    "collapsed": false
   },
   "outputs": [
    {
     "data": {
      "text/plain": [
       "36.787944117144235"
      ]
     },
     "execution_count": 12,
     "metadata": {},
     "output_type": "execute_result"
    }
   ],
   "source": [
    "pv(100, .1, 10, calc_df_cont)"
   ]
  },
  {
   "cell_type": "code",
   "execution_count": 13,
   "metadata": {
    "collapsed": false
   },
   "outputs": [
    {
     "data": {
      "text/plain": [
       "38.55432894295314"
      ]
     },
     "execution_count": 13,
     "metadata": {},
     "output_type": "execute_result"
    }
   ],
   "source": [
    "pv(100, .1, 10)"
   ]
  },
  {
   "cell_type": "code",
   "execution_count": null,
   "metadata": {
    "collapsed": true
   },
   "outputs": [],
   "source": []
  }
 ],
 "metadata": {
  "kernelspec": {
   "display_name": "Python 2",
   "language": "python",
   "name": "python2"
  },
  "language_info": {
   "codemirror_mode": {
    "name": "ipython",
    "version": 2
   },
   "file_extension": ".py",
   "mimetype": "text/x-python",
   "name": "python",
   "nbconvert_exporter": "python",
   "pygments_lexer": "ipython2",
   "version": "2.7.10"
  }
 },
 "nbformat": 4,
 "nbformat_minor": 0
}
