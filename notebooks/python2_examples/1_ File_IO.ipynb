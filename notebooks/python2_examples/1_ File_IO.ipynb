{
 "cells": [
  {
   "cell_type": "markdown",
   "metadata": {},
   "source": [
    "# File Input and Output  \n",
    "\n",
    "1. How are files stored?  \n",
    "2. Reading a text file, line-by-line   \n",
    "    * File Object\n",
    "    * Lists from files\n",
    "    * Dictionaries from files\n",
    "3. Exercises:\n",
    "    * GDP per capita\n",
    "    * Big Mac Index\n",
    "4. Writing a text file\n",
    "5. Other Tools for Python File I/O  \n",
    "----------\n"
   ]
  },
  {
   "cell_type": "markdown",
   "metadata": {},
   "source": [
    "## first, make sure you are in the right directory\n",
    "\n",
    "you should see econ_data.txt and README.txt"
   ]
  },
  {
   "cell_type": "code",
   "execution_count": 6,
   "metadata": {
    "collapsed": false
   },
   "outputs": [
    {
     "name": "stdout",
     "output_type": "stream",
     "text": [
      "/Users/snorlax13mba/UNIVERSE/WK/Software_Carpentry/Bootcamps/NBER_2015-01/Lessons/2_py_reading_files\n"
     ]
    }
   ],
   "source": [
    "%%sh\n",
    "pwd"
   ]
  },
  {
   "cell_type": "code",
   "execution_count": 7,
   "metadata": {
    "collapsed": false
   },
   "outputs": [
    {
     "name": "stdout",
     "output_type": "stream",
     "text": [
      "A_Loops_and_Functions\n",
      "B_File_Io\n",
      "File_IO.ipynb\n",
      "README.txt\n",
      "Reading_Files_in_Python_TC.ipynb\n",
      "big_mac.csv\n",
      "econ_data.txt\n",
      "gdp_per_capita.csv\n",
      "images\n",
      "my_eco_tools.py\n",
      "my_eco_tools.pyc\n"
     ]
    }
   ],
   "source": [
    "%%sh\n",
    "ls"
   ]
  },
  {
   "cell_type": "code",
   "execution_count": null,
   "metadata": {
    "collapsed": false
   },
   "outputs": [],
   "source": []
  },
  {
   "cell_type": "code",
   "execution_count": 8,
   "metadata": {
    "collapsed": false
   },
   "outputs": [
    {
     "name": "stdout",
     "output_type": "stream",
     "text": [
      "country,country_code,gdp_usd,pop,fx_per_usd,currency_code,currency_name,big_mac_local_price\r\n",
      "Argentina,ARG,609.9,43132,8.1688,ARS,Argentine peso,21.00\r\n",
      "Australia,AUS,1560.4,23714,1.0594,AUD,Australian dollar,5.10\r\n",
      "Austria,AUT,428.3,8527,0.7427,EUR,Euro,3.39\r\n",
      "Belgium,BEL,524.8,11233,0.7427,EUR,Euro,3.70\r\n",
      "Brazil,BRA,2245.7,203663,2.2203,BRL,Brazilian real,13.00\r\n",
      "United Kingdom,GBR,2678.5,64106,0.5868,GBP,British pound[C],2.89\r\n",
      "Canada,CAN,1826.8,35676,1.0741,CAD,Canadian dollar,5.64\r\n",
      "Chile,CHL,277.2,18006,564.1400,CLP,Chilean peso,2100.00\r\n",
      "China,CHN,9240.3,1367400,6.1983,CNY,Chinese yuan,16.90\r\n",
      "Colombia,COL,378.4,47931,1847.6500,COP,Colombian peso,8600.00\r\n",
      "Costa Rica,CRI,49.6,4773,537.3000,CRC,Costa Rican colon,2150.00\r\n",
      "Czech Republic,CZE,208.8,10522,20.3877,CZK,Czech koruna,70.45\r\n",
      "Denmark,DNK,335.9,5656,5.5388,DKK,Danish krone,28.50\r\n",
      "Egypt,EGY,272.0,87758,7.1501,EGP,Egyptian pound,16.93\r\n",
      "Estonia,EST,24.9,1316,0.7427,EUR,Euro,2.90\r\n",
      "Finland,FIN,267.3,5472,0.7427,EUR,Euro,4.10\r\n",
      "France,FRA,2806.4,66078,0.7427,EUR,Euro,3.90\r\n",
      "Germany,DEU,3730.3,80783,0.7427,EUR,Euro,3.67\r\n",
      "Greece,GRC,242.2,10993,0.7427,EUR,Euro,3.05\r\n",
      "Hong Kong,HKG,274.0,7235,7.7505,HKD,Hong Kong dollar,18.80\r\n",
      "Hungary,HUN,133.4,9879,228.3062,HUF,Hungarian forint,860.00\r\n",
      "India,IND,1876.8,1264700,60.0888,INR,Indian rupee,105.00\r\n",
      "Indonesia,IDN,868.3,255462,11505.0000,IDR,Indonesian rupiah,27939.00\r\n",
      "Ireland,IRL,232.1,4610,0.7427,EUR,Euro,3.49\r\n",
      "Israel,ISR,290.6,8296,3.4138,ILS,Israeli new shekel,17.50\r\n",
      "Italy,ITA,2149.5,60782,0.7427,EUR,Euro,3.85\r\n",
      "Japan,JPN,4919.6,127070,101.5300,JPY,Japanese yen,370.00\r\n",
      "Lithuania,LTU,45.9,2923,2.5646,LTL,Lithuanian litas,8.95\r\n",
      "Malaysia,MYS,313.2,30447,3.1675,MYR,Malaysian ringgit,7.63\r\n",
      "Mexico,MEX,1260.9,121006,12.9326,MXN,Mexican peso,42.00\r\n",
      "Netherlands,NLD,853.5,16883,0.7427,EUR,Euro,3.45\r\n",
      "New Zealand,NZL,185.8,4552,1.1527,NZD,New Zealand dollar,5.70\r\n",
      "Norway,NOR,512.6,5156,6.1873,NOK,Norwegian krone,48.00\r\n",
      "Pakistan,PAK,232.3,188556,98.6800,PKR,Pakistani rupee,300.00\r\n",
      "Peru,PER,202.3,31152,2.7880,PEN,Peruvian nuevo sol,10.00\r\n",
      "Philippines,PHL,272.1,100777,43.2050,PHP,Philippine peso,160.00\r\n",
      "Poland,POL,525.9,38496,3.0714,PLN,Polish zloty,9.20\r\n",
      "Portugal,PRT,227.3,10478,0.7427,EUR,Euro,3.00\r\n",
      "Russia,RUS,2096.8,146300,34.8373,RUB,Russian ruble,89.00\r\n",
      "Saudi Arabia,SAU,748.4,31521,3.7504,SAR,Saudi riyal,11.00\r\n",
      "Singapore,SGP,297.9,5470,1.2380,BND,Brunei dollar,4.70\r\n",
      "South Africa,ZAF,350.6,54002,10.5145,ZAR,South African rand,24.50\r\n",
      "South Korea,SAS,1304.6,50424,1023.7500,KRW,South Korean won,4100.00\r\n",
      "Spain,ESP,1393.0,46508,0.7427,EUR,Euro,3.65\r\n",
      "Sri Lanka,LKA,67.2,20359,130.2550,LKR,Sri Lankan rupee,350.00\r\n",
      "Sweden,SWE,579.7,9738,6.8360,SEK,Swedish krona,40.70\r\n",
      "Switzerland,CHE,685.4,8212,0.9024,CHF,Swiss franc,6.16\r\n",
      "Taiwan,SYR,474.0,23425,29.9820,TWD,New Taiwan dollar,79.00\r\n",
      "Thailand,THA,387.3,64871,31.7800,THB,Thai baht,99.00\r\n",
      "Turkey,TUR,822.1,76668,2.0913,TRY,Turkish lira,9.25\r\n",
      "UAE,TUV,402.3,9577,3.6731,AED,United Arab Emirates dirham,13.00\r\n",
      "Ukraine,UKR,177.4,42965,11.6850,UAH,Ukrainian hryvnia,19.00\r\n",
      "United States,USA,16768.1,320092,1.0000,USD,United States dollar,4.80\r\n",
      "Uruguay,URY,55.7,3404,22.9700,UYU,Uruguayan peso,113.00\r\n",
      "Venezuela,VEN,438.3,30620,11.0000,VEF,Venezuelan bolivar,75.00\r\n",
      "Vietnam,VNM,171.4,90730,21230.0000,VND,Vietnamese dong,60000.00\r\n"
     ]
    }
   ],
   "source": [
    "%%bash\n",
    "cat econ_data.txt"
   ]
  },
  {
   "cell_type": "code",
   "execution_count": 9,
   "metadata": {
    "collapsed": false
   },
   "outputs": [
    {
     "name": "stdout",
     "output_type": "stream",
     "text": [
      "      57 econ_data.txt\n"
     ]
    }
   ],
   "source": [
    "%%sh\n",
    "# how many lines are there in the file?\n",
    "wc -l econ_data.txt"
   ]
  },
  {
   "cell_type": "code",
   "execution_count": 10,
   "metadata": {
    "collapsed": false
   },
   "outputs": [
    {
     "name": "stdout",
     "output_type": "stream",
     "text": [
      "      46\n"
     ]
    }
   ],
   "source": [
    "%%bash\n",
    "# how many individual currencies are there?\n",
    "cut -d \",\" -f 6 econ_data.txt | sort | uniq -c | wc -l"
   ]
  },
  {
   "cell_type": "code",
   "execution_count": null,
   "metadata": {
    "collapsed": false
   },
   "outputs": [],
   "source": []
  },
  {
   "cell_type": "code",
   "execution_count": null,
   "metadata": {
    "collapsed": false
   },
   "outputs": [],
   "source": []
  },
  {
   "cell_type": "markdown",
   "metadata": {},
   "source": [
    "# 1. How are files stored?  "
   ]
  },
  {
   "cell_type": "markdown",
   "metadata": {},
   "source": [
    "## Binary Encoding of Text\n",
    "\n",
    "A simple plain text file that contains the plain-text string \"NBER Bootcamp.\" is stored in 15 bytes as:   \n",
    "![nber_image](./images/nber.png)"
   ]
  },
  {
   "cell_type": "markdown",
   "metadata": {},
   "source": [
    "### Some resources  \n",
    "\n",
    "* Wikipedia: [ASCII](https://en.wikipedia.org/wiki/Ascii)\n",
    "* [ The Absolute Minimum Every Software Developer Absolutely, Positively Must Know About Unicode and Character Sets (No Excuses!)](http://www.joelonsoftware.com/articles/Unicode.html)"
   ]
  },
  {
   "cell_type": "markdown",
   "metadata": {},
   "source": [
    "### Occasional Pain Point: `\\n` versus `\\r\\n`  \n",
    "\n",
    "* `\\n` = New Line\n",
    "    * In most  Unix systems including Mac OSX, `\\n` is the standard line terminator for text files  \n",
    "    * The non-printable value, 0101 1100, will occupy the byte that signifies the new line marker\n",
    "* `\\r` = Carriage Return\n",
    "    * Windows text files typically terminate lines with the sequence `\\r\\n`\n",
    "    * Whle Python does its best to insulate you from having to keep track of `\\n` versus `\\r\\n`, you may come across situations where the presence of Carriage Return characters is an issue.\n",
    "    \n",
    "    \n",
    "### Where does \"Return\" come from anyway? \n",
    "\n",
    "![CRLF](images/02_CRLF.png)\n",
    "    \n",
    "    "
   ]
  },
  {
   "cell_type": "markdown",
   "metadata": {},
   "source": [
    "## Common Plain-Text file types\n",
    "\n",
    "* Text (.txt)\n",
    "* Comma-Separated Values (.csv)\n",
    "    * Most spreadsheets allow for export of .csv files\n",
    "    * Common way of sharing \"Flat\" flies (one row = one observation)\n",
    "    * Many possible variations: headers, row names, separator characters, quotes, etc.\n",
    "* Space-padded, tab-delimited (`\\t`), etc.\n",
    "* Source code, HTML, \"Natural Language,\" XML, JSON, Yaml, etc. etc."
   ]
  },
  {
   "cell_type": "markdown",
   "metadata": {},
   "source": [
    "## Files with Other Binary Encodings  \n",
    "\n",
    "* Documents: databases (many open and proprietary formats), .pdf, .doc, .xls, etc.\n",
    "* Images: .jpg, .png, many other formats\n",
    "* Audio: mp3, ogg, etc.\n",
    "* Data from sensors, repeated measures, archaic formats, etc."
   ]
  },
  {
   "cell_type": "markdown",
   "metadata": {},
   "source": [
    "## The Point: \n",
    "\n",
    "* Find out what format your input data is in\n",
    "* To the extent possible, look at your data\n",
    "    * Unix utilities: `cat`, `less` `head`, `tail`, `wc`, etc.\n",
    "* Test your expectations\n",
    "* Decide how to handle missing data and \"bad\" data (JTPA)\n",
    "    * Big subjects, not covered today\n",
    "* Allow plenty of time for dealing with file format ideosyncracies and conversions\n"
   ]
  },
  {
   "cell_type": "markdown",
   "metadata": {},
   "source": [
    "# 2. Reading a text file, line-by-line   \n",
    "\n",
    "* Look at the data\n",
    "* Read into a File Object\n",
    "* Create a List from the File\n",
    "* Create a Dictionary from File\n"
   ]
  },
  {
   "cell_type": "markdown",
   "metadata": {},
   "source": [
    "### Economic Data dataset\n",
    "\n",
    "`econ_data.txt`\n",
    "\n",
    "> Question of interest: Which country has the largest GDP per capita? And the smallest?  \n",
    "\n",
    "> Alternate question of interest: What is the price of a Big Mac in USD?"
   ]
  },
  {
   "cell_type": "markdown",
   "metadata": {},
   "source": [
    "### Examine the data\n",
    "\n",
    "> Here we use the iPython Notebook \"magics\" to call the shell. You can also just do this from the command line\n",
    "\n",
    "* Look at the data\n",
    "* Read the docs"
   ]
  },
  {
   "cell_type": "code",
   "execution_count": 11,
   "metadata": {
    "collapsed": false
   },
   "outputs": [
    {
     "name": "stdout",
     "output_type": "stream",
     "text": [
      "A_Loops_and_Functions\n",
      "B_File_Io\n",
      "File_IO.ipynb\n",
      "README.txt\n",
      "Reading_Files_in_Python_TC.ipynb\n",
      "big_mac.csv\n",
      "econ_data.txt\n",
      "gdp_per_capita.csv\n",
      "images\n",
      "my_eco_tools.py\n",
      "my_eco_tools.pyc\n"
     ]
    }
   ],
   "source": [
    "%%bash\n",
    "ls"
   ]
  },
  {
   "cell_type": "code",
   "execution_count": 12,
   "metadata": {
    "collapsed": false
   },
   "outputs": [
    {
     "name": "stdout",
     "output_type": "stream",
     "text": [
      "econ_data.txt dataset description\r\n",
      "\r\n",
      "Selected Economic Data for 56 Countries, December 2013\r\n",
      "\r\n",
      "Variables\r\n",
      "\r\n",
      "country : Name of country\r\n",
      "country_code : Three character country code\r\n",
      "gdp_usd : Gross Domestic Product, equivalent USD billion\r\n",
      "pop : Population, thousand\r\n",
      "fx_per_usd : Foreign exchange rate in FX units per US Dollar\r\n",
      "currency_code : Three character code for local currency\r\n",
      "currency_name : Name of local currency\r\n",
      "big_mac_local_price : Price of a Big Mac, denominated in local currency\r\n",
      "\r\n",
      "\r\n",
      "Sources\r\n",
      "\r\n",
      "* The Economist \"The Big Mac index\" http://www.economist.com/content/big-mac-index\r\n",
      "\r\n",
      "* World Bank\r\n",
      "\r\n",
      "* Wikipedia\r\n",
      "\r\n"
     ]
    }
   ],
   "source": [
    "%%sh\n",
    "# read README.txt\n",
    "cat README.txt"
   ]
  },
  {
   "cell_type": "code",
   "execution_count": 13,
   "metadata": {
    "collapsed": false
   },
   "outputs": [
    {
     "name": "stdout",
     "output_type": "stream",
     "text": [
      "      57     123    3288 econ_data.txt\n"
     ]
    }
   ],
   "source": [
    "%%bash\n",
    "wc econ_data.txt\n",
    "# what does the output mean?  call: man wc"
   ]
  },
  {
   "cell_type": "code",
   "execution_count": 14,
   "metadata": {
    "collapsed": false
   },
   "outputs": [
    {
     "name": "stdout",
     "output_type": "stream",
     "text": [
      "country,country_code,gdp_usd,pop,fx_per_usd,currency_code,currency_name,big_mac_local_price\r\n",
      "Argentina,ARG,609.9,43132,8.1688,ARS,Argentine peso,21.00\r\n",
      "Australia,AUS,1560.4,23714,1.0594,AUD,Australian dollar,5.10\r\n",
      "Austria,AUT,428.3,8527,0.7427,EUR,Euro,3.39\r\n",
      "Belgium,BEL,524.8,11233,0.7427,EUR,Euro,3.70\r\n",
      "Brazil,BRA,2245.7,203663,2.2203,BRL,Brazilian real,13.00\r\n",
      "United Kingdom,GBR,2678.5,64106,0.5868,GBP,British pound[C],2.89\r\n",
      "Canada,CAN,1826.8,35676,1.0741,CAD,Canadian dollar,5.64\r\n",
      "Chile,CHL,277.2,18006,564.1400,CLP,Chilean peso,2100.00\r\n",
      "China,CHN,9240.3,1367400,6.1983,CNY,Chinese yuan,16.90\r\n"
     ]
    }
   ],
   "source": [
    "%%bash\n",
    "head econ_data.txt"
   ]
  },
  {
   "cell_type": "markdown",
   "metadata": {},
   "source": [
    "### Read the data into a file object\n",
    "\n",
    "* two approaches"
   ]
  },
  {
   "cell_type": "code",
   "execution_count": 15,
   "metadata": {
    "collapsed": false
   },
   "outputs": [
    {
     "name": "stdout",
     "output_type": "stream",
     "text": [
      "econ_data.txt\n"
     ]
    }
   ],
   "source": [
    "# For convenience, assign the path and file name to variables\n",
    "\n",
    "read_this = 'econ_data.txt'\n",
    "print read_this"
   ]
  },
  {
   "cell_type": "code",
   "execution_count": 16,
   "metadata": {
    "collapsed": false
   },
   "outputs": [],
   "source": [
    "# Approach 1: open, read, close\n",
    "file_in = open(read_this, 'r')\n",
    "all_lines = file_in.readlines()\n",
    "file_in.close()                   # important to close the file"
   ]
  },
  {
   "cell_type": "markdown",
   "metadata": {},
   "source": [
    "#### Some properties of the file that was read"
   ]
  },
  {
   "cell_type": "code",
   "execution_count": 17,
   "metadata": {
    "collapsed": false
   },
   "outputs": [
    {
     "name": "stdout",
     "output_type": "stream",
     "text": [
      "Name of the file:  econ_data.txt\n",
      "Is File Closed? :  True\n",
      "Opening mode :  r\n"
     ]
    }
   ],
   "source": [
    "print \"Name of the file: \", file_in.name\n",
    "print \"Is File Closed? : \", file_in.closed\n",
    "print \"Opening mode : \", file_in.mode\n"
   ]
  },
  {
   "cell_type": "markdown",
   "metadata": {},
   "source": [
    "### Another way to read a file: python `with()` \n",
    "\n",
    "* This approach is better and safer because it will automatically close the file after reading it"
   ]
  },
  {
   "cell_type": "code",
   "execution_count": 18,
   "metadata": {
    "collapsed": false
   },
   "outputs": [],
   "source": [
    "with open(read_this, 'r') as file_in:\n",
    "    lines = file_in.readlines()\n",
    "    # file_in.close()"
   ]
  },
  {
   "cell_type": "code",
   "execution_count": 19,
   "metadata": {
    "collapsed": false
   },
   "outputs": [
    {
     "data": {
      "text/plain": [
       "list"
      ]
     },
     "execution_count": 19,
     "metadata": {},
     "output_type": "execute_result"
    }
   ],
   "source": [
    "type(lines)"
   ]
  },
  {
   "cell_type": "code",
   "execution_count": 20,
   "metadata": {
    "collapsed": false
   },
   "outputs": [
    {
     "data": {
      "text/plain": [
       "['country,country_code,gdp_usd,pop,fx_per_usd,currency_code,currency_name,big_mac_local_price\\r\\n',\n",
       " 'Argentina,ARG,609.9,43132,8.1688,ARS,Argentine peso,21.00\\r\\n',\n",
       " 'Australia,AUS,1560.4,23714,1.0594,AUD,Australian dollar,5.10\\r\\n',\n",
       " 'Austria,AUT,428.3,8527,0.7427,EUR,Euro,3.39\\r\\n',\n",
       " 'Belgium,BEL,524.8,11233,0.7427,EUR,Euro,3.70\\r\\n']"
      ]
     },
     "execution_count": 20,
     "metadata": {},
     "output_type": "execute_result"
    }
   ],
   "source": [
    "lines[0:5]"
   ]
  },
  {
   "cell_type": "code",
   "execution_count": 21,
   "metadata": {
    "collapsed": false
   },
   "outputs": [
    {
     "name": "stdout",
     "output_type": "stream",
     "text": [
      "country,country_code,gdp_usd,pop,fx_per_usd,currency_code,currency_name,big_mac_local_price\r\n",
      "\n",
      "Argentina,ARG,609.9,43132,8.1688,ARS,Argentine peso,21.00\r\n",
      "\n",
      "Australia,AUS,1560.4,23714,1.0594,AUD,Australian dollar,5.10\r\n",
      "\n",
      "Austria,AUT,428.3,8527,0.7427,EUR,Euro,3.39\r\n",
      "\n",
      "Belgium,BEL,524.8,11233,0.7427,EUR,Euro,3.70\r\n",
      "\n",
      "Brazil,BRA,2245.7,203663,2.2203,BRL,Brazilian real,13.00\r\n",
      "\n",
      "United Kingdom,GBR,2678.5,64106,0.5868,GBP,British pound[C],2.89\r\n",
      "\n",
      "Canada,CAN,1826.8,35676,1.0741,CAD,Canadian dollar,5.64\r\n",
      "\n",
      "Chile,CHL,277.2,18006,564.1400,CLP,Chilean peso,2100.00\r\n",
      "\n",
      "China,CHN,9240.3,1367400,6.1983,CNY,Chinese yuan,16.90\r\n",
      "\n",
      "Colombia,COL,378.4,47931,1847.6500,COP,Colombian peso,8600.00\r\n",
      "\n",
      "Costa Rica,CRI,49.6,4773,537.3000,CRC,Costa Rican colon,2150.00\r\n",
      "\n",
      "Czech Republic,CZE,208.8,10522,20.3877,CZK,Czech koruna,70.45\r\n",
      "\n",
      "Denmark,DNK,335.9,5656,5.5388,DKK,Danish krone,28.50\r\n",
      "\n",
      "Egypt,EGY,272.0,87758,7.1501,EGP,Egyptian pound,16.93\r\n",
      "\n",
      "Estonia,EST,24.9,1316,0.7427,EUR,Euro,2.90\r\n",
      "\n",
      "Finland,FIN,267.3,5472,0.7427,EUR,Euro,4.10\r\n",
      "\n",
      "France,FRA,2806.4,66078,0.7427,EUR,Euro,3.90\r\n",
      "\n",
      "Germany,DEU,3730.3,80783,0.7427,EUR,Euro,3.67\r\n",
      "\n",
      "Greece,GRC,242.2,10993,0.7427,EUR,Euro,3.05\r\n",
      "\n",
      "Hong Kong,HKG,274.0,7235,7.7505,HKD,Hong Kong dollar,18.80\r\n",
      "\n",
      "Hungary,HUN,133.4,9879,228.3062,HUF,Hungarian forint,860.00\r\n",
      "\n",
      "India,IND,1876.8,1264700,60.0888,INR,Indian rupee,105.00\r\n",
      "\n",
      "Indonesia,IDN,868.3,255462,11505.0000,IDR,Indonesian rupiah,27939.00\r\n",
      "\n",
      "Ireland,IRL,232.1,4610,0.7427,EUR,Euro,3.49\r\n",
      "\n",
      "Israel,ISR,290.6,8296,3.4138,ILS,Israeli new shekel,17.50\r\n",
      "\n",
      "Italy,ITA,2149.5,60782,0.7427,EUR,Euro,3.85\r\n",
      "\n",
      "Japan,JPN,4919.6,127070,101.5300,JPY,Japanese yen,370.00\r\n",
      "\n",
      "Lithuania,LTU,45.9,2923,2.5646,LTL,Lithuanian litas,8.95\r\n",
      "\n",
      "Malaysia,MYS,313.2,30447,3.1675,MYR,Malaysian ringgit,7.63\r\n",
      "\n",
      "Mexico,MEX,1260.9,121006,12.9326,MXN,Mexican peso,42.00\r\n",
      "\n",
      "Netherlands,NLD,853.5,16883,0.7427,EUR,Euro,3.45\r\n",
      "\n",
      "New Zealand,NZL,185.8,4552,1.1527,NZD,New Zealand dollar,5.70\r\n",
      "\n",
      "Norway,NOR,512.6,5156,6.1873,NOK,Norwegian krone,48.00\r\n",
      "\n",
      "Pakistan,PAK,232.3,188556,98.6800,PKR,Pakistani rupee,300.00\r\n",
      "\n",
      "Peru,PER,202.3,31152,2.7880,PEN,Peruvian nuevo sol,10.00\r\n",
      "\n",
      "Philippines,PHL,272.1,100777,43.2050,PHP,Philippine peso,160.00\r\n",
      "\n",
      "Poland,POL,525.9,38496,3.0714,PLN,Polish zloty,9.20\r\n",
      "\n",
      "Portugal,PRT,227.3,10478,0.7427,EUR,Euro,3.00\r\n",
      "\n",
      "Russia,RUS,2096.8,146300,34.8373,RUB,Russian ruble,89.00\r\n",
      "\n",
      "Saudi Arabia,SAU,748.4,31521,3.7504,SAR,Saudi riyal,11.00\r\n",
      "\n",
      "Singapore,SGP,297.9,5470,1.2380,BND,Brunei dollar,4.70\r\n",
      "\n",
      "South Africa,ZAF,350.6,54002,10.5145,ZAR,South African rand,24.50\r\n",
      "\n",
      "South Korea,SAS,1304.6,50424,1023.7500,KRW,South Korean won,4100.00\r\n",
      "\n",
      "Spain,ESP,1393.0,46508,0.7427,EUR,Euro,3.65\r\n",
      "\n",
      "Sri Lanka,LKA,67.2,20359,130.2550,LKR,Sri Lankan rupee,350.00\r\n",
      "\n",
      "Sweden,SWE,579.7,9738,6.8360,SEK,Swedish krona,40.70\r\n",
      "\n",
      "Switzerland,CHE,685.4,8212,0.9024,CHF,Swiss franc,6.16\r\n",
      "\n",
      "Taiwan,SYR,474.0,23425,29.9820,TWD,New Taiwan dollar,79.00\r\n",
      "\n",
      "Thailand,THA,387.3,64871,31.7800,THB,Thai baht,99.00\r\n",
      "\n",
      "Turkey,TUR,822.1,76668,2.0913,TRY,Turkish lira,9.25\r\n",
      "\n",
      "UAE,TUV,402.3,9577,3.6731,AED,United Arab Emirates dirham,13.00\r\n",
      "\n",
      "Ukraine,UKR,177.4,42965,11.6850,UAH,Ukrainian hryvnia,19.00\r\n",
      "\n",
      "United States,USA,16768.1,320092,1.0000,USD,United States dollar,4.80\r\n",
      "\n",
      "Uruguay,URY,55.7,3404,22.9700,UYU,Uruguayan peso,113.00\r\n",
      "\n",
      "Venezuela,VEN,438.3,30620,11.0000,VEF,Venezuelan bolivar,75.00\r\n",
      "\n",
      "Vietnam,VNM,171.4,90730,21230.0000,VND,Vietnamese dong,60000.00\r\n",
      "\n"
     ]
    }
   ],
   "source": [
    "# print each individual line -- iterate over the file\n",
    "for l in lines:\n",
    "    print l"
   ]
  },
  {
   "cell_type": "markdown",
   "metadata": {},
   "source": [
    "`repr` := representation of the line, revealing hidden characters like \\r\\n line terminators"
   ]
  },
  {
   "cell_type": "code",
   "execution_count": 22,
   "metadata": {
    "collapsed": false
   },
   "outputs": [
    {
     "name": "stdout",
     "output_type": "stream",
     "text": [
      "'country,country_code,gdp_usd,pop,fx_per_usd,currency_code,currency_name,big_mac_local_price\\r\\n'\n",
      "'Argentina,ARG,609.9,43132,8.1688,ARS,Argentine peso,21.00\\r\\n'\n",
      "'Australia,AUS,1560.4,23714,1.0594,AUD,Australian dollar,5.10\\r\\n'\n",
      "'Austria,AUT,428.3,8527,0.7427,EUR,Euro,3.39\\r\\n'\n",
      "'Belgium,BEL,524.8,11233,0.7427,EUR,Euro,3.70\\r\\n'\n",
      "'Brazil,BRA,2245.7,203663,2.2203,BRL,Brazilian real,13.00\\r\\n'\n",
      "'United Kingdom,GBR,2678.5,64106,0.5868,GBP,British pound[C],2.89\\r\\n'\n",
      "'Canada,CAN,1826.8,35676,1.0741,CAD,Canadian dollar,5.64\\r\\n'\n",
      "'Chile,CHL,277.2,18006,564.1400,CLP,Chilean peso,2100.00\\r\\n'\n",
      "'China,CHN,9240.3,1367400,6.1983,CNY,Chinese yuan,16.90\\r\\n'\n",
      "'Colombia,COL,378.4,47931,1847.6500,COP,Colombian peso,8600.00\\r\\n'\n",
      "'Costa Rica,CRI,49.6,4773,537.3000,CRC,Costa Rican colon,2150.00\\r\\n'\n",
      "'Czech Republic,CZE,208.8,10522,20.3877,CZK,Czech koruna,70.45\\r\\n'\n",
      "'Denmark,DNK,335.9,5656,5.5388,DKK,Danish krone,28.50\\r\\n'\n",
      "'Egypt,EGY,272.0,87758,7.1501,EGP,Egyptian pound,16.93\\r\\n'\n",
      "'Estonia,EST,24.9,1316,0.7427,EUR,Euro,2.90\\r\\n'\n",
      "'Finland,FIN,267.3,5472,0.7427,EUR,Euro,4.10\\r\\n'\n",
      "'France,FRA,2806.4,66078,0.7427,EUR,Euro,3.90\\r\\n'\n",
      "'Germany,DEU,3730.3,80783,0.7427,EUR,Euro,3.67\\r\\n'\n",
      "'Greece,GRC,242.2,10993,0.7427,EUR,Euro,3.05\\r\\n'\n",
      "'Hong Kong,HKG,274.0,7235,7.7505,HKD,Hong Kong dollar,18.80\\r\\n'\n",
      "'Hungary,HUN,133.4,9879,228.3062,HUF,Hungarian forint,860.00\\r\\n'\n",
      "'India,IND,1876.8,1264700,60.0888,INR,Indian rupee,105.00\\r\\n'\n",
      "'Indonesia,IDN,868.3,255462,11505.0000,IDR,Indonesian rupiah,27939.00\\r\\n'\n",
      "'Ireland,IRL,232.1,4610,0.7427,EUR,Euro,3.49\\r\\n'\n",
      "'Israel,ISR,290.6,8296,3.4138,ILS,Israeli new shekel,17.50\\r\\n'\n",
      "'Italy,ITA,2149.5,60782,0.7427,EUR,Euro,3.85\\r\\n'\n",
      "'Japan,JPN,4919.6,127070,101.5300,JPY,Japanese yen,370.00\\r\\n'\n",
      "'Lithuania,LTU,45.9,2923,2.5646,LTL,Lithuanian litas,8.95\\r\\n'\n",
      "'Malaysia,MYS,313.2,30447,3.1675,MYR,Malaysian ringgit,7.63\\r\\n'\n",
      "'Mexico,MEX,1260.9,121006,12.9326,MXN,Mexican peso,42.00\\r\\n'\n",
      "'Netherlands,NLD,853.5,16883,0.7427,EUR,Euro,3.45\\r\\n'\n",
      "'New Zealand,NZL,185.8,4552,1.1527,NZD,New Zealand dollar,5.70\\r\\n'\n",
      "'Norway,NOR,512.6,5156,6.1873,NOK,Norwegian krone,48.00\\r\\n'\n",
      "'Pakistan,PAK,232.3,188556,98.6800,PKR,Pakistani rupee,300.00\\r\\n'\n",
      "'Peru,PER,202.3,31152,2.7880,PEN,Peruvian nuevo sol,10.00\\r\\n'\n",
      "'Philippines,PHL,272.1,100777,43.2050,PHP,Philippine peso,160.00\\r\\n'\n",
      "'Poland,POL,525.9,38496,3.0714,PLN,Polish zloty,9.20\\r\\n'\n",
      "'Portugal,PRT,227.3,10478,0.7427,EUR,Euro,3.00\\r\\n'\n",
      "'Russia,RUS,2096.8,146300,34.8373,RUB,Russian ruble,89.00\\r\\n'\n",
      "'Saudi Arabia,SAU,748.4,31521,3.7504,SAR,Saudi riyal,11.00\\r\\n'\n",
      "'Singapore,SGP,297.9,5470,1.2380,BND,Brunei dollar,4.70\\r\\n'\n",
      "'South Africa,ZAF,350.6,54002,10.5145,ZAR,South African rand,24.50\\r\\n'\n",
      "'South Korea,SAS,1304.6,50424,1023.7500,KRW,South Korean won,4100.00\\r\\n'\n",
      "'Spain,ESP,1393.0,46508,0.7427,EUR,Euro,3.65\\r\\n'\n",
      "'Sri Lanka,LKA,67.2,20359,130.2550,LKR,Sri Lankan rupee,350.00\\r\\n'\n",
      "'Sweden,SWE,579.7,9738,6.8360,SEK,Swedish krona,40.70\\r\\n'\n",
      "'Switzerland,CHE,685.4,8212,0.9024,CHF,Swiss franc,6.16\\r\\n'\n",
      "'Taiwan,SYR,474.0,23425,29.9820,TWD,New Taiwan dollar,79.00\\r\\n'\n",
      "'Thailand,THA,387.3,64871,31.7800,THB,Thai baht,99.00\\r\\n'\n",
      "'Turkey,TUR,822.1,76668,2.0913,TRY,Turkish lira,9.25\\r\\n'\n",
      "'UAE,TUV,402.3,9577,3.6731,AED,United Arab Emirates dirham,13.00\\r\\n'\n",
      "'Ukraine,UKR,177.4,42965,11.6850,UAH,Ukrainian hryvnia,19.00\\r\\n'\n",
      "'United States,USA,16768.1,320092,1.0000,USD,United States dollar,4.80\\r\\n'\n",
      "'Uruguay,URY,55.7,3404,22.9700,UYU,Uruguayan peso,113.00\\r\\n'\n",
      "'Venezuela,VEN,438.3,30620,11.0000,VEF,Venezuelan bolivar,75.00\\r\\n'\n",
      "'Vietnam,VNM,171.4,90730,21230.0000,VND,Vietnamese dong,60000.00\\r\\n'\n"
     ]
    }
   ],
   "source": [
    "for line in lines:\n",
    "    print repr(line)"
   ]
  },
  {
   "cell_type": "markdown",
   "metadata": {},
   "source": [
    "### Splitting Up Each Line: From a `String` to a `List`"
   ]
  },
  {
   "cell_type": "code",
   "execution_count": 23,
   "metadata": {
    "collapsed": false
   },
   "outputs": [
    {
     "name": "stdout",
     "output_type": "stream",
     "text": [
      "Australia,AUS,1560.4,23714,1.0594,AUD,Australian dollar,5.10\r\n",
      "\n"
     ]
    }
   ],
   "source": [
    "some_line = lines[2]\n",
    "print some_line\n"
   ]
  },
  {
   "cell_type": "code",
   "execution_count": 24,
   "metadata": {
    "collapsed": false
   },
   "outputs": [
    {
     "data": {
      "text/plain": [
       "'A'"
      ]
     },
     "execution_count": 24,
     "metadata": {},
     "output_type": "execute_result"
    }
   ],
   "source": [
    "some_line[0]"
   ]
  },
  {
   "cell_type": "code",
   "execution_count": 25,
   "metadata": {
    "collapsed": false
   },
   "outputs": [
    {
     "data": {
      "text/plain": [
       "str"
      ]
     },
     "execution_count": 25,
     "metadata": {},
     "output_type": "execute_result"
    }
   ],
   "source": [
    "type(some_line)"
   ]
  },
  {
   "cell_type": "code",
   "execution_count": null,
   "metadata": {
    "collapsed": false
   },
   "outputs": [],
   "source": []
  },
  {
   "cell_type": "code",
   "execution_count": 26,
   "metadata": {
    "collapsed": false
   },
   "outputs": [
    {
     "data": {
      "text/plain": [
       "'A'"
      ]
     },
     "execution_count": 26,
     "metadata": {},
     "output_type": "execute_result"
    }
   ],
   "source": [
    "# What is the first element of some_line?\n",
    "some_line[0]\n",
    "\n",
    "# is that what you expected?"
   ]
  },
  {
   "cell_type": "code",
   "execution_count": 27,
   "metadata": {
    "collapsed": false
   },
   "outputs": [
    {
     "name": "stdout",
     "output_type": "stream",
     "text": [
      "A\n",
      "u\n",
      "s\n",
      "t\n",
      "r\n",
      "a\n",
      "l\n",
      "i\n",
      "a\n",
      ",\n",
      "A\n",
      "U\n",
      "S\n",
      ",\n",
      "1\n",
      "5\n",
      "6\n",
      "0\n",
      ".\n",
      "4\n",
      ",\n",
      "2\n",
      "3\n",
      "7\n",
      "1\n",
      "4\n",
      ",\n",
      "1\n",
      ".\n",
      "0\n",
      "5\n",
      "9\n",
      "4\n",
      ",\n",
      "A\n",
      "U\n",
      "D\n",
      ",\n",
      "A\n",
      "u\n",
      "s\n",
      "t\n",
      "r\n",
      "a\n",
      "l\n",
      "i\n",
      "a\n",
      "n\n",
      " \n",
      "d\n",
      "o\n",
      "l\n",
      "l\n",
      "a\n",
      "r\n",
      ",\n",
      "5\n",
      ".\n",
      "1\n",
      "0\n",
      "\r\n",
      "\n",
      "\n"
     ]
    }
   ],
   "source": [
    "for _ in some_line:\n",
    "    print _"
   ]
  },
  {
   "cell_type": "code",
   "execution_count": 28,
   "metadata": {
    "collapsed": false
   },
   "outputs": [
    {
     "name": "stdout",
     "output_type": "stream",
     "text": [
      "<type 'str'>\n"
     ]
    }
   ],
   "source": [
    "print type(some_line)"
   ]
  },
  {
   "cell_type": "markdown",
   "metadata": {},
   "source": [
    "#### Identifying variables using the comma delimiters"
   ]
  },
  {
   "cell_type": "code",
   "execution_count": 29,
   "metadata": {
    "collapsed": false
   },
   "outputs": [
    {
     "name": "stdout",
     "output_type": "stream",
     "text": [
      "['Australia', 'AUS', '1560.4', '23714', '1.0594', 'AUD', 'Australian dollar', '5.10\\r\\n']\n"
     ]
    }
   ],
   "source": [
    "line_split_at_commas = some_line.split(\",\")  # forms a python List object, splitting at the comma characters\n",
    "print line_split_at_commas"
   ]
  },
  {
   "cell_type": "markdown",
   "metadata": {},
   "source": [
    "Still have line terminator invisible characters at the end."
   ]
  },
  {
   "cell_type": "code",
   "execution_count": 30,
   "metadata": {
    "collapsed": false
   },
   "outputs": [
    {
     "name": "stdout",
     "output_type": "stream",
     "text": [
      "Australia,AUS,1560.4,23714,1.0594,AUD,Australian dollar,5.10\n"
     ]
    }
   ],
   "source": [
    "print some_line.strip()        # gets rid of whitespace... \n",
    "# print type(some_line.strip())  # though result is still a string"
   ]
  },
  {
   "cell_type": "code",
   "execution_count": 31,
   "metadata": {
    "collapsed": false
   },
   "outputs": [
    {
     "name": "stdout",
     "output_type": "stream",
     "text": [
      "A\n"
     ]
    }
   ],
   "source": [
    "my_new_line = some_line.strip()\n",
    "print my_new_line[0]"
   ]
  },
  {
   "cell_type": "code",
   "execution_count": null,
   "metadata": {
    "collapsed": false
   },
   "outputs": [],
   "source": []
  },
  {
   "cell_type": "code",
   "execution_count": null,
   "metadata": {
    "collapsed": false
   },
   "outputs": [],
   "source": []
  },
  {
   "cell_type": "code",
   "execution_count": 32,
   "metadata": {
    "collapsed": false
   },
   "outputs": [
    {
     "name": "stdout",
     "output_type": "stream",
     "text": [
      "['Australia', 'AUS', '1560.4', '23714', '1.0594', 'AUD', 'Australian dollar', '5.10']\n"
     ]
    }
   ],
   "source": [
    "line_list = some_line.strip().split(\",\")\n",
    "print line_list"
   ]
  },
  {
   "cell_type": "code",
   "execution_count": 33,
   "metadata": {
    "collapsed": false
   },
   "outputs": [
    {
     "name": "stdout",
     "output_type": "stream",
     "text": [
      "Australia\n",
      "AUS\n",
      "1560.4\n",
      "23714\n",
      "1.0594\n",
      "AUD\n",
      "Australian dollar\n",
      "5.10\n"
     ]
    }
   ],
   "source": [
    "for l in line_list:\n",
    "    print l"
   ]
  },
  {
   "cell_type": "markdown",
   "metadata": {},
   "source": [
    "CAUTION: they look like numbers, but they are still strings"
   ]
  },
  {
   "cell_type": "code",
   "execution_count": 34,
   "metadata": {
    "collapsed": false
   },
   "outputs": [
    {
     "name": "stdout",
     "output_type": "stream",
     "text": [
      "6\n"
     ]
    }
   ],
   "source": [
    "print 3 + 3"
   ]
  },
  {
   "cell_type": "code",
   "execution_count": 35,
   "metadata": {
    "collapsed": false
   },
   "outputs": [
    {
     "name": "stdout",
     "output_type": "stream",
     "text": [
      "33\n"
     ]
    }
   ],
   "source": [
    "print '3' + '3'"
   ]
  },
  {
   "cell_type": "markdown",
   "metadata": {},
   "source": [
    "## Multiple assignment trick: list unpacking"
   ]
  },
  {
   "cell_type": "code",
   "execution_count": 36,
   "metadata": {
    "collapsed": false
   },
   "outputs": [
    {
     "name": "stdout",
     "output_type": "stream",
     "text": [
      "Country =  Australia\n",
      "GDP in USD bn = 1560.4\n",
      "Population mm = 23714.0\n"
     ]
    }
   ],
   "source": [
    "\n",
    "country, country_code, gdp_usd, pop, fx, curr_code, curr_name, big_mac = line_list\n",
    "\n",
    "print \"Country = \", country\n",
    "print \"GDP in USD bn =\", float(gdp_usd)\n",
    "print \"Population mm =\", float(pop)"
   ]
  },
  {
   "cell_type": "markdown",
   "metadata": {},
   "source": [
    "## 3. Exercise: Calculate GDP Per Capita (or, Big Mac index, if you prefer)\n",
    "\n",
    "Procedure\n",
    "\n",
    "* Read econ_data.txt into a file object\n",
    "* Calculate GDP / Population ratio\n",
    "    * pay attention to integer arithmetic issues\n",
    "* Print ratio for each country\n",
    "* Find min and max.\n",
    "* Do your results make sense?\n",
    "\n",
    "* __Bonus 1__: \n",
    "    * Create variables to keep track of min and max\n",
    "    * Just print the country with the max and the country with the min\n",
    "\n",
    "* __Bonus 2__:\n",
    "    * Find average ratio\n"
   ]
  },
  {
   "cell_type": "code",
   "execution_count": null,
   "metadata": {
    "collapsed": false
   },
   "outputs": [],
   "source": []
  },
  {
   "cell_type": "markdown",
   "metadata": {},
   "source": [
    "## pseudo-code\n",
    "\n",
    "1. read the file into a LIST!!!!!!!  here it happens to be called \"lines\"\n",
    "2. for item in lines:\n",
    "3.   clean up the item. i,e., convert the item from a string into a NEW list\n",
    "4.   figure out which elements are the numbers you want\n",
    "5.   take the relevant ratio \n",
    "6.   print the country name and the ratio"
   ]
  },
  {
   "cell_type": "code",
   "execution_count": null,
   "metadata": {
    "collapsed": false
   },
   "outputs": [],
   "source": []
  },
  {
   "cell_type": "code",
   "execution_count": 37,
   "metadata": {
    "collapsed": false
   },
   "outputs": [
    {
     "name": "stdout",
     "output_type": "stream",
     "text": [
      "Country= Argentina \tratio= 14140.3134564\n",
      "Country= Australia \tratio= 65800.7927806\n",
      "Country= Austria \tratio= 50228.6853524\n",
      "Country= Belgium \tratio= 46719.4872251\n",
      "Country= Brazil \tratio= 11026.5487595\n",
      "Country= United Kingdom \tratio= 41782.3604655\n",
      "Country= Canada \tratio= 51205.2920731\n",
      "Country= Chile \tratio= 15394.8683772\n",
      "Country= China \tratio= 6757.56910926\n",
      "Country= Colombia \tratio= 7894.68193862\n",
      "Country= Costa Rica \tratio= 10391.787136\n",
      "Country= Czech Republic \tratio= 19844.1360958\n",
      "Country= Denmark \tratio= 59388.2602546\n",
      "Country= Egypt \tratio= 3099.43253037\n",
      "Country= Estonia \tratio= 18920.9726444\n",
      "Country= Finland \tratio= 48848.6842105\n",
      "Country= France \tratio= 42471.0190986\n",
      "Country= Germany \tratio= 46176.7946226\n",
      "Country= Greece \tratio= 22032.2023106\n",
      "Country= Hong Kong \tratio= 37871.4581894\n",
      "Country= Hungary \tratio= 13503.3910315\n",
      "Country= India \tratio= 1483.98829762\n",
      "Country= Indonesia \tratio= 3398.93995976\n",
      "Country= Ireland \tratio= 50347.0715835\n",
      "Country= Israel \tratio= 35028.9296046\n",
      "Country= Italy \tratio= 35364.0880524\n",
      "Country= Japan \tratio= 38715.6685292\n",
      "Country= Lithuania \tratio= 15703.044817\n",
      "Country= Malaysia \tratio= 10286.7277564\n",
      "Country= Mexico \tratio= 10420.1444556\n",
      "Country= Netherlands \tratio= 50553.8115264\n",
      "Country= New Zealand \tratio= 40817.2231986\n",
      "Country= Norway \tratio= 99418.1536074\n",
      "Country= Pakistan \tratio= 1231.99473896\n",
      "Country= Peru \tratio= 6493.96507447\n",
      "Country= Philippines \tratio= 2700.02083809\n",
      "Country= Poland \tratio= 13661.159601\n",
      "Country= Portugal \tratio= 21693.0711968\n",
      "Country= Russia \tratio= 14332.1941217\n",
      "Country= Saudi Arabia \tratio= 23742.9015577\n",
      "Country= Singapore \tratio= 54460.6946984\n",
      "Country= South Africa \tratio= 6492.35213511\n",
      "Country= South Korea \tratio= 25872.600349\n",
      "Country= Spain \tratio= 29951.8362432\n",
      "Country= Sri Lanka \tratio= 3300.75151039\n",
      "Country= Sweden \tratio= 59529.6775519\n",
      "Country= Switzerland \tratio= 83463.2245494\n",
      "Country= Taiwan \tratio= 20234.791889\n",
      "Country= Thailand \tratio= 5970.31030815\n",
      "Country= Turkey \tratio= 10722.8569938\n",
      "Country= UAE \tratio= 42006.8915109\n",
      "Country= Ukraine \tratio= 4128.94216223\n",
      "Country= United States \tratio= 52385.2517401\n",
      "Country= Uruguay \tratio= 16363.1022327\n",
      "Country= Venezuela \tratio= 14314.1737427\n",
      "Country= Vietnam \tratio= 1889.12156949\n"
     ]
    }
   ],
   "source": [
    "# List-based solution\n",
    "with open(read_this, 'r') as file_in:\n",
    "    lines = file_in.readlines()\n",
    "    \n",
    "ratios = []\n",
    "for line in lines:\n",
    "    clean_line = line.strip().split(',')\n",
    "    country, country_code, gdp_usd, pop, fx, curr_code, curr_name, big_mac = clean_line\n",
    "    if country == \"country\":\n",
    "        pass     # skip the header line\n",
    "    else:\n",
    "        ratio = (1e6 * float(gdp_usd)) / (float(pop))\n",
    "        print \"Country=\",country, \"\\tratio=\", ratio\n",
    "        ratios.append([country, ratio])"
   ]
  },
  {
   "cell_type": "code",
   "execution_count": 38,
   "metadata": {
    "collapsed": false
   },
   "outputs": [],
   "source": [
    "# dictionary-based solution\n",
    "with open(read_this, 'r') as file_in:\n",
    "    lines = file_in.readlines()\n",
    "    \n",
    "bigmac_dict = {} # empty dictionary\n",
    "for line in lines:\n",
    "    clean_line = line.strip().split(',')\n",
    "    country, country_code, gdp_usd, pop, fx, curr_code, curr_name, big_mac = clean_line\n",
    "    if country == \"country\":\n",
    "        pass     # skip the header line\n",
    "    else:\n",
    "        bigmac_dict[country] = float(big_mac) / (float(fx))  # WATCH parentheses and order of operations\n"
   ]
  },
  {
   "cell_type": "code",
   "execution_count": 39,
   "metadata": {
    "collapsed": false
   },
   "outputs": [
    {
     "name": "stdout",
     "output_type": "stream",
     "text": [
      "{'Brazil': 5.8550646309057335, 'Canada': 5.250907736709803, 'Italy': 5.183788878416588, 'Czech Republic': 3.455514844734816, 'Lithuania': 3.489822974342977, 'Costa Rica': 4.001488926112042, 'France': 5.251110811902517, 'Netherlands': 4.64521341052915, 'Ireland': 4.699070957317894, 'Argentina': 2.5707570267358735, 'Norway': 7.757826515604545, 'Thailand': 3.1151667715544367, 'Israel': 5.126252270197433, 'Australia': 4.814045686237493, 'Singapore': 3.796445880452343, 'Turkey': 4.42308611868216, 'Venezuela': 6.818181818181818, 'China': 2.7265540551441525, 'Chile': 3.7224802354025597, 'Belgium': 4.981823077958799, 'Germany': 4.941429917867241, 'Hong Kong': 2.4256499580672215, 'Poland': 2.9953767011786154, 'Spain': 4.914501144472869, 'Ukraine': 1.6260162601626016, 'Indonesia': 2.4284224250325943, 'Taiwan': 2.634914281902475, 'Denmark': 5.14551888495703, 'Philippines': 3.703275083902326, 'Finland': 5.520398545846236, 'Saudi Arabia': 2.9330204778157, 'United States': 4.8, 'Sweden': 5.953774136922177, 'Uruguay': 4.919460165433174, 'Japan': 3.644243080862799, 'Switzerland': 6.826241134751774, 'New Zealand': 4.944911945866227, 'Russia': 2.554733001696458, 'Pakistan': 3.0401297122010535, 'Portugal': 4.039316009155783, 'Estonia': 3.9046721421839234, 'Mexico': 3.247606823067287, 'Egypt': 2.367799051761514, 'UAE': 3.5392447796139503, 'South Africa': 2.330115554710162, 'India': 1.7474138275352478, 'Peru': 3.586800573888092, 'United Kingdom': 4.925017041581459, 'Malaysia': 2.408839779005525, 'Austria': 4.564427090346035, 'Vietnam': 2.826189354686764, 'Colombia': 4.654561199361351, 'Greece': 4.106637942641712, 'Sri Lanka': 2.6870369659514033, 'Hungary': 3.766870982916802, 'South Korea': 4.004884004884005}\n"
     ]
    }
   ],
   "source": [
    "print bigmac_dict"
   ]
  },
  {
   "cell_type": "code",
   "execution_count": 40,
   "metadata": {
    "collapsed": false
   },
   "outputs": [
    {
     "name": "stdout",
     "output_type": "stream",
     "text": [
      "['Brazil', 'Canada', 'Italy', 'Czech Republic', 'Lithuania', 'Costa Rica', 'France', 'Netherlands', 'Ireland', 'Argentina', 'Norway', 'Thailand', 'Israel', 'Australia', 'Singapore', 'Turkey', 'Venezuela', 'China', 'Chile', 'Belgium', 'Germany', 'Hong Kong', 'Poland', 'Spain', 'Ukraine', 'Indonesia', 'Taiwan', 'Denmark', 'Philippines', 'Finland', 'Saudi Arabia', 'United States', 'Sweden', 'Uruguay', 'Japan', 'Switzerland', 'New Zealand', 'Russia', 'Pakistan', 'Portugal', 'Estonia', 'Mexico', 'Egypt', 'UAE', 'South Africa', 'India', 'Peru', 'United Kingdom', 'Malaysia', 'Austria', 'Vietnam', 'Colombia', 'Greece', 'Sri Lanka', 'Hungary', 'South Korea']\n"
     ]
    }
   ],
   "source": [
    "print bigmac_dict.keys()"
   ]
  },
  {
   "cell_type": "code",
   "execution_count": 41,
   "metadata": {
    "collapsed": false
   },
   "outputs": [
    {
     "name": "stdout",
     "output_type": "stream",
     "text": [
      "[5.8550646309057335, 5.250907736709803, 5.183788878416588, 3.455514844734816, 3.489822974342977, 4.001488926112042, 5.251110811902517, 4.64521341052915, 4.699070957317894, 2.5707570267358735, 7.757826515604545, 3.1151667715544367, 5.126252270197433, 4.814045686237493, 3.796445880452343, 4.42308611868216, 6.818181818181818, 2.7265540551441525, 3.7224802354025597, 4.981823077958799, 4.941429917867241, 2.4256499580672215, 2.9953767011786154, 4.914501144472869, 1.6260162601626016, 2.4284224250325943, 2.634914281902475, 5.14551888495703, 3.703275083902326, 5.520398545846236, 2.9330204778157, 4.8, 5.953774136922177, 4.919460165433174, 3.644243080862799, 6.826241134751774, 4.944911945866227, 2.554733001696458, 3.0401297122010535, 4.039316009155783, 3.9046721421839234, 3.247606823067287, 2.367799051761514, 3.5392447796139503, 2.330115554710162, 1.7474138275352478, 3.586800573888092, 4.925017041581459, 2.408839779005525, 4.564427090346035, 2.826189354686764, 4.654561199361351, 4.106637942641712, 2.6870369659514033, 3.766870982916802, 4.004884004884005]\n"
     ]
    }
   ],
   "source": [
    "print bigmac_dict.values()"
   ]
  },
  {
   "cell_type": "code",
   "execution_count": 42,
   "metadata": {
    "collapsed": false
   },
   "outputs": [
    {
     "name": "stdout",
     "output_type": "stream",
     "text": [
      "4.8\n"
     ]
    }
   ],
   "source": [
    "print (bigmac_dict['United States'])"
   ]
  },
  {
   "cell_type": "markdown",
   "metadata": {},
   "source": [
    "#### Accessing dictionary elements - the safe way and the unsafe way"
   ]
  },
  {
   "cell_type": "code",
   "execution_count": 43,
   "metadata": {
    "collapsed": false
   },
   "outputs": [],
   "source": [
    "phony = \"Fredonia\""
   ]
  },
  {
   "cell_type": "code",
   "execution_count": 44,
   "metadata": {
    "collapsed": false
   },
   "outputs": [
    {
     "ename": "KeyError",
     "evalue": "'Fredonia'",
     "output_type": "error",
     "traceback": [
      "\u001b[0;31m---------------------------------------------------------------------------\u001b[0m",
      "\u001b[0;31mKeyError\u001b[0m                                  Traceback (most recent call last)",
      "\u001b[0;32m<ipython-input-44-c51e706bd729>\u001b[0m in \u001b[0;36m<module>\u001b[0;34m()\u001b[0m\n\u001b[0;32m----> 1\u001b[0;31m \u001b[0;32mprint\u001b[0m \u001b[0mbigmac_dict\u001b[0m\u001b[0;34m[\u001b[0m\u001b[0mphony\u001b[0m\u001b[0;34m]\u001b[0m\u001b[0;34m\u001b[0m\u001b[0m\n\u001b[0m",
      "\u001b[0;31mKeyError\u001b[0m: 'Fredonia'"
     ]
    }
   ],
   "source": [
    "print bigmac_dict[phony]"
   ]
  },
  {
   "cell_type": "code",
   "execution_count": 45,
   "metadata": {
    "collapsed": false
   },
   "outputs": [
    {
     "name": "stdout",
     "output_type": "stream",
     "text": [
      "None\n"
     ]
    }
   ],
   "source": [
    "print bigmac_dict.get(phony)"
   ]
  },
  {
   "cell_type": "code",
   "execution_count": null,
   "metadata": {
    "collapsed": false
   },
   "outputs": [],
   "source": []
  },
  {
   "cell_type": "code",
   "execution_count": 46,
   "metadata": {
    "collapsed": false
   },
   "outputs": [
    {
     "name": "stdout",
     "output_type": "stream",
     "text": [
      "Peru \t3.58680057389\n",
      "Turkey \t4.42308611868\n",
      "UAE \t3.53924477961\n"
     ]
    }
   ],
   "source": [
    "# using the dictionary like a database\n",
    "my_study_subjects = ['Peru', 'Turkey', 'UAE']\n",
    "for subj in my_study_subjects:\n",
    "    print subj, \"\\t\", (bigmac_dict[subj])"
   ]
  },
  {
   "cell_type": "code",
   "execution_count": 47,
   "metadata": {
    "collapsed": false
   },
   "outputs": [
    {
     "name": "stdout",
     "output_type": "stream",
     "text": [
      "Peru \t3.59\n",
      "Turkey \t4.42\n",
      "UAE \t3.54\n"
     ]
    }
   ],
   "source": [
    "for subj in my_study_subjects:\n",
    "    print subj, \"\\t\", \"{:0.2f}\".format(bigmac_dict[subj])\n",
    "    # print(\"{:.2f}\".format(3.1415926));"
   ]
  },
  {
   "cell_type": "markdown",
   "metadata": {},
   "source": [
    "Python number format resources\n",
    "http://stackoverflow.com/questions/8885663/how-to-format-a-floating-number-to-fixed-width-in-python\n",
    "http://www.python-course.eu/python3_formatted_output.php"
   ]
  },
  {
   "cell_type": "markdown",
   "metadata": {},
   "source": [
    "# 4. Writing a text file\n",
    "\n",
    "* Suppose we want to save our calculated brain-to-body ratios"
   ]
  },
  {
   "cell_type": "code",
   "execution_count": 48,
   "metadata": {
    "collapsed": true
   },
   "outputs": [],
   "source": [
    "file_out_name = 'Animal_brain_to_body_ratio.txt'\n",
    "file_out = open(file_out_name, 'w')\n",
    "for r in ratios:\n",
    "    line_out = r[0] + \", \" + str(r[1]) + \"\\n\"\n",
    "    file_out.write(line_out)\n",
    "file_out.close()"
   ]
  },
  {
   "cell_type": "code",
   "execution_count": null,
   "metadata": {
    "collapsed": false
   },
   "outputs": [],
   "source": []
  },
  {
   "cell_type": "markdown",
   "metadata": {},
   "source": [
    "# 5. Other Tools for Reading and Writing Files  \n",
    "\n",
    "## `csv` module\n",
    "\n",
    "* somewhat more \"helpful\" way of reading and writing flat files\n",
    "* [official documentation](https://docs.python.org/2/library/csv.html)\n",
    "\n",
    "## <font color=green>pandas</font> \n",
    "\n",
    "* Beyond file i/o, a powerful set of full-fledged \"Data Wrangling\" tools for python\n",
    "* cross-sectional, time-series\n",
    "* Intro video at <http://vimeo.com/59324550>\n",
    "* Book info: <http://shop.oreilly.com/product/0636920023784.do>\n"
   ]
  },
  {
   "cell_type": "code",
   "execution_count": 49,
   "metadata": {
    "collapsed": false
   },
   "outputs": [],
   "source": [
    "import pandas as pd"
   ]
  },
  {
   "cell_type": "code",
   "execution_count": 50,
   "metadata": {
    "collapsed": true
   },
   "outputs": [],
   "source": [
    "eco_df = pd.read_csv(\"econ_data.txt\", index_col=0)"
   ]
  },
  {
   "cell_type": "code",
   "execution_count": 51,
   "metadata": {
    "collapsed": false
   },
   "outputs": [
    {
     "data": {
      "text/html": [
       "<div>\n",
       "<table border=\"1\" class=\"dataframe\">\n",
       "  <thead>\n",
       "    <tr style=\"text-align: right;\">\n",
       "      <th></th>\n",
       "      <th>country_code</th>\n",
       "      <th>gdp_usd</th>\n",
       "      <th>pop</th>\n",
       "      <th>fx_per_usd</th>\n",
       "      <th>currency_code</th>\n",
       "      <th>currency_name</th>\n",
       "      <th>big_mac_local_price</th>\n",
       "    </tr>\n",
       "    <tr>\n",
       "      <th>country</th>\n",
       "      <th></th>\n",
       "      <th></th>\n",
       "      <th></th>\n",
       "      <th></th>\n",
       "      <th></th>\n",
       "      <th></th>\n",
       "      <th></th>\n",
       "    </tr>\n",
       "  </thead>\n",
       "  <tbody>\n",
       "    <tr>\n",
       "      <th>Argentina</th>\n",
       "      <td>ARG</td>\n",
       "      <td>609.9</td>\n",
       "      <td>43132</td>\n",
       "      <td>8.1688</td>\n",
       "      <td>ARS</td>\n",
       "      <td>Argentine peso</td>\n",
       "      <td>21.00</td>\n",
       "    </tr>\n",
       "    <tr>\n",
       "      <th>Australia</th>\n",
       "      <td>AUS</td>\n",
       "      <td>1560.4</td>\n",
       "      <td>23714</td>\n",
       "      <td>1.0594</td>\n",
       "      <td>AUD</td>\n",
       "      <td>Australian dollar</td>\n",
       "      <td>5.10</td>\n",
       "    </tr>\n",
       "    <tr>\n",
       "      <th>Austria</th>\n",
       "      <td>AUT</td>\n",
       "      <td>428.3</td>\n",
       "      <td>8527</td>\n",
       "      <td>0.7427</td>\n",
       "      <td>EUR</td>\n",
       "      <td>Euro</td>\n",
       "      <td>3.39</td>\n",
       "    </tr>\n",
       "    <tr>\n",
       "      <th>Belgium</th>\n",
       "      <td>BEL</td>\n",
       "      <td>524.8</td>\n",
       "      <td>11233</td>\n",
       "      <td>0.7427</td>\n",
       "      <td>EUR</td>\n",
       "      <td>Euro</td>\n",
       "      <td>3.70</td>\n",
       "    </tr>\n",
       "    <tr>\n",
       "      <th>Brazil</th>\n",
       "      <td>BRA</td>\n",
       "      <td>2245.7</td>\n",
       "      <td>203663</td>\n",
       "      <td>2.2203</td>\n",
       "      <td>BRL</td>\n",
       "      <td>Brazilian real</td>\n",
       "      <td>13.00</td>\n",
       "    </tr>\n",
       "  </tbody>\n",
       "</table>\n",
       "</div>"
      ],
      "text/plain": [
       "          country_code  gdp_usd     pop  fx_per_usd currency_code  \\\n",
       "country                                                             \n",
       "Argentina          ARG    609.9   43132      8.1688           ARS   \n",
       "Australia          AUS   1560.4   23714      1.0594           AUD   \n",
       "Austria            AUT    428.3    8527      0.7427           EUR   \n",
       "Belgium            BEL    524.8   11233      0.7427           EUR   \n",
       "Brazil             BRA   2245.7  203663      2.2203           BRL   \n",
       "\n",
       "               currency_name  big_mac_local_price  \n",
       "country                                            \n",
       "Argentina     Argentine peso                21.00  \n",
       "Australia  Australian dollar                 5.10  \n",
       "Austria                 Euro                 3.39  \n",
       "Belgium                 Euro                 3.70  \n",
       "Brazil        Brazilian real                13.00  "
      ]
     },
     "execution_count": 51,
     "metadata": {},
     "output_type": "execute_result"
    }
   ],
   "source": [
    "eco_df.head()"
   ]
  },
  {
   "cell_type": "code",
   "execution_count": 52,
   "metadata": {
    "collapsed": false
   },
   "outputs": [],
   "source": [
    "eco_df['bmi'] = eco_df.big_mac_local_price / eco_df.fx_per_usd"
   ]
  },
  {
   "cell_type": "code",
   "execution_count": 53,
   "metadata": {
    "collapsed": false
   },
   "outputs": [],
   "source": [
    "%matplotlib inline"
   ]
  },
  {
   "cell_type": "code",
   "execution_count": 54,
   "metadata": {
    "collapsed": false
   },
   "outputs": [
    {
     "data": {
      "text/plain": [
       "country\n",
       "Ukraine         1.626016\n",
       "India           1.747414\n",
       "South Africa    2.330116\n",
       "Egypt           2.367799\n",
       "Malaysia        2.408840\n",
       "Name: bmi, dtype: float64"
      ]
     },
     "execution_count": 54,
     "metadata": {},
     "output_type": "execute_result"
    }
   ],
   "source": [
    "big_mac = eco_df['bmi'].copy()\n",
    "big_mac.sort()\n",
    "big_mac.head()"
   ]
  },
  {
   "cell_type": "code",
   "execution_count": 55,
   "metadata": {
    "collapsed": false
   },
   "outputs": [
    {
     "data": {
      "text/plain": [
       "<matplotlib.axes._subplots.AxesSubplot at 0x107d1afd0>"
      ]
     },
     "execution_count": 55,
     "metadata": {},
     "output_type": "execute_result"
    },
    {
     "data": {
      "image/png": "[encoded data removed]",
      "text/plain": [
       "<matplotlib.figure.Figure at 0x107d1a750>"
      ]
     },
     "metadata": {},
     "output_type": "display_data"
    }
   ],
   "source": [
    "big_mac.plot(kind='barh', figsize=(6,12), color='Green', alpha=0.5)"
   ]
  },
  {
   "cell_type": "code",
   "execution_count": 56,
   "metadata": {
    "collapsed": false
   },
   "outputs": [
    {
     "data": {
      "text/plain": [
       "<matplotlib.axes._subplots.AxesSubplot at 0x108076150>"
      ]
     },
     "execution_count": 56,
     "metadata": {},
     "output_type": "execute_result"
    },
    {
     "data": {
      "image/png": "[encoded data removed]",
      "text/plain": [
       "<matplotlib.figure.Figure at 0x1080663d0>"
      ]
     },
     "metadata": {},
     "output_type": "display_data"
    }
   ],
   "source": [
    "big_mac.hist(normed=True, bins=17, alpha=0.5)\n",
    "big_mac.plot(kind='kde', linewidth=3, alpha=0.3, color=\"Red\",\n",
    "             title=\"Distribution of Big Mac Prices in USD\",\n",
    "             figsize = (9, 6))"
   ]
  },
  {
   "cell_type": "markdown",
   "metadata": {},
   "source": [
    "# 6. Writing a Script"
   ]
  },
  {
   "cell_type": "markdown",
   "metadata": {},
   "source": [
    "Scripting - i.e. writing and saving independent python scripts -- allows you to create, optimize, and reuse functions.\n",
    "\n",
    "The code in the cell below can be saved to a text file and then imported by other python scripts.   \n",
    "\n",
    "For example, if we save the code below to 'my_eco_tools.py'"
   ]
  },
  {
   "cell_type": "code",
   "execution_count": 57,
   "metadata": {
    "collapsed": false
   },
   "outputs": [],
   "source": [
    "\"\"\"\n",
    "Read econ_data.txt and write out analytic results as follows.\n",
    "(1) write two new comma-delimited files\n",
    "    * gdp_per_capita.csv - GDP per capita by country\n",
    "    * big_mac.csv - big mac price in USD by country\n",
    "(2) create horizontal bar plots of the same as:\n",
    "    * gdp_per_capita.png - GDP per capita by country\n",
    "    * big_mac.png -  big mac price in USD by country\n",
    "\"\"\"\n",
    "import pandas as pd\n",
    "\n",
    "def make_gdppc_and_bigmac_files(file_to_process):\n",
    "    \"\"\"Read file_to_process and create .csvs\"\"\"\n",
    "    eco_df = pd.read_csv(file_to_process, index_col=0)\n",
    "    gpdpc_df = pd.DataFrame(index=eco_df.index)\n",
    "    bigmac_df = pd.DataFrame(index=eco_df.index)\n",
    "\n",
    "    gpdpc_df['gdp_per_capita'] = 1e6 * eco_df.gdp_usd / map(float, eco_df['pop'])\n",
    "    bigmac_df['big_mac_in_usd'] = eco_df.big_mac_local_price / eco_df.fx_per_usd\n",
    "\n",
    "    gpdpc_df.to_csv('gdp_per_capita.csv')\n",
    "    bigmac_df.to_csv('big_mac.csv')\n",
    "    \n",
    "def main():\n",
    "    to_process = 'econ_data.txt'\n",
    "    make_gdppc_and_bigmac_files(to_process)\n",
    "    \n",
    "if __name__ == '__main__':\n",
    "    main()"
   ]
  },
  {
   "cell_type": "code",
   "execution_count": 58,
   "metadata": {
    "collapsed": false
   },
   "outputs": [],
   "source": [
    "from my_eco_tools import make_gdppc_and_bigmac_files as the_usual"
   ]
  },
  {
   "cell_type": "code",
   "execution_count": 59,
   "metadata": {
    "collapsed": false
   },
   "outputs": [],
   "source": [
    "the_usual('econ_data.txt')"
   ]
  },
  {
   "cell_type": "code",
   "execution_count": null,
   "metadata": {
    "collapsed": false
   },
   "outputs": [],
   "source": []
  }
 ],
 "metadata": {
  "kernelspec": {
   "display_name": "Python 2",
   "language": "python",
   "name": "python2"
  },
  "language_info": {
   "codemirror_mode": {
    "name": "ipython",
    "version": 2
   },
   "file_extension": ".py",
   "mimetype": "text/x-python",
   "name": "python",
   "nbconvert_exporter": "python",
   "pygments_lexer": "ipython2",
   "version": "2.7.10"
  }
 },
 "nbformat": 4,
 "nbformat_minor": 0
}
