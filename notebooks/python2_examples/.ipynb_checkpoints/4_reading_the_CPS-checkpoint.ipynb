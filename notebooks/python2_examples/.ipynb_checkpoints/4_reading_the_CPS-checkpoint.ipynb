{
 "cells": [
  {
   "cell_type": "markdown",
   "metadata": {},
   "source": [
    "# Reading the CPS, a Fixed-Width File"
   ]
  },
  {
   "cell_type": "markdown",
   "metadata": {},
   "source": [
    "> Most introductory examples regarding reading files with python involve .csv files or other kinds of files with delimiters. However fixed-width files such as the Current Population Survey are commonly used in Economic research. This notebook demonstrates how to read a fixed width file."
   ]
  },
  {
   "cell_type": "markdown",
   "metadata": {},
   "source": [
    "#### Background\n",
    "\n",
    "* Each CPS record is 950 characters wide\n",
    "* Variables are located positionally within each record. \n",
    "* There are no delimiters separating one variable from another.\n",
    "* Rather, a _codebook_ document provides a description of variable positions\n",
    "* The codebook also describes the mapping of each variables numeric value to categorial meaning\n",
    "\n",
    "For this bootcamp, we provide two files\n",
    "\n",
    "| Path to file | Description |\n",
    "|--------------|-------------|\n",
    "| `./bootcamp_cps/mar14pub_1k.dat` | 1,000 randomly sampled records from the March 2014 CPS |\n",
    "|  `./bootcamp_cps/January_2014_Record_Layout.doc`| Codebook, original MS Word Document |"
   ]
  },
  {
   "cell_type": "markdown",
   "metadata": {},
   "source": [
    "### Goals\n",
    "\n",
    "* Open CPS file, choosing selected variables\n",
    "* Produce illustrative frequencies and cross-tabs"
   ]
  },
  {
   "cell_type": "markdown",
   "metadata": {},
   "source": [
    "#### 0. Set Up"
   ]
  },
  {
   "cell_type": "code",
   "execution_count": 1,
   "metadata": {
    "collapsed": false
   },
   "outputs": [],
   "source": [
    "% matplotlib inline\n",
    "import pandas as pd\n",
    "import numpy as np"
   ]
  },
  {
   "cell_type": "code",
   "execution_count": 2,
   "metadata": {
    "collapsed": false
   },
   "outputs": [],
   "source": [
    "cps_file = './bootcamp_cps/mar14pub_1k.dat'"
   ]
  },
  {
   "cell_type": "markdown",
   "metadata": {},
   "source": [
    "#### 1. Choose variables to load"
   ]
  },
  {
   "cell_type": "code",
   "execution_count": 3,
   "metadata": {
    "collapsed": false
   },
   "outputs": [],
   "source": [
    "from_codebook = \\\n",
    "\"\"\"\n",
    "GEREG\t\t\t2\t\tREGION\t\t\t\t\t\t\t\t\t\t\t89 - 90\n",
    "PEMARITL\t\t2\t\tMARITAL STATUS \t\t\t\t\t\t\t\t125 - 126\n",
    "PERRP\t\t\t2\t\tRELATIONSHIP TO REFERENCE\t\t\t\t\t\t118 - 119\n",
    "PRTAGE\t\t\t2\t\tPERSONS AGE  \t\t\t\t\t\t\t\t\t122 - 123\n",
    "PESEX\t\t\t2\t\tSEX\t\t\t\t\t\t\t\t\t\t\t\t129 - 130\n",
    "PEMLR\t\t\t2\t\tMONTHLY LABOR FORCE RECODE\t\t\t\t\t180 - 181\n",
    "\"\"\""
   ]
  },
  {
   "cell_type": "code",
   "execution_count": 4,
   "metadata": {
    "collapsed": false
   },
   "outputs": [],
   "source": [
    "fcb_lines = from_codebook.split('\\n')"
   ]
  },
  {
   "cell_type": "code",
   "execution_count": 5,
   "metadata": {
    "collapsed": false
   },
   "outputs": [
    {
     "data": {
      "text/plain": [
       "['',\n",
       " 'GEREG\\t\\t\\t2\\t\\tREGION\\t\\t\\t\\t\\t\\t\\t\\t\\t\\t\\t89 - 90',\n",
       " 'PEMARITL\\t\\t2\\t\\tMARITAL STATUS \\t\\t\\t\\t\\t\\t\\t\\t125 - 126',\n",
       " 'PERRP\\t\\t\\t2\\t\\tRELATIONSHIP TO REFERENCE\\t\\t\\t\\t\\t\\t118 - 119',\n",
       " 'PRTAGE\\t\\t\\t2\\t\\tPERSONS AGE  \\t\\t\\t\\t\\t\\t\\t\\t\\t122 - 123',\n",
       " 'PESEX\\t\\t\\t2\\t\\tSEX\\t\\t\\t\\t\\t\\t\\t\\t\\t\\t\\t\\t129 - 130',\n",
       " 'PEMLR\\t\\t\\t2\\t\\tMONTHLY LABOR FORCE RECODE\\t\\t\\t\\t\\t180 - 181',\n",
       " '']"
      ]
     },
     "execution_count": 5,
     "metadata": {},
     "output_type": "execute_result"
    }
   ],
   "source": [
    "fcb_lines"
   ]
  },
  {
   "cell_type": "code",
   "execution_count": 6,
   "metadata": {
    "collapsed": false
   },
   "outputs": [],
   "source": [
    "codebook_dictionary = {}\n",
    "for line in fcb_lines:\n",
    "    if len(line):\n",
    "        record = [item for item in line.split('\\t') if item]\n",
    "        # print record\n",
    "        cps_variable = record[0]\n",
    "        var_width = int(record[1])\n",
    "        description = record[2]\n",
    "        cps_position_string = record[-1].replace(' ','').split('-')\n",
    "        cps_position_tuple = tuple([int(s) for s in cps_position_string])\n",
    "        position_tuple = (cps_position_tuple[0] - 1, cps_position_tuple[0] + var_width - 1)\n",
    "        # print cps_position_string, position_tuple\n",
    "        codebook_dictionary[cps_variable] = position_tuple"
   ]
  },
  {
   "cell_type": "code",
   "execution_count": 7,
   "metadata": {
    "collapsed": false
   },
   "outputs": [
    {
     "data": {
      "text/plain": [
       "{'GEREG': (88, 90),\n",
       " 'PEMARITL': (124, 126),\n",
       " 'PEMLR': (179, 181),\n",
       " 'PERRP': (117, 119),\n",
       " 'PESEX': (128, 130),\n",
       " 'PRTAGE': (121, 123)}"
      ]
     },
     "execution_count": 7,
     "metadata": {},
     "output_type": "execute_result"
    }
   ],
   "source": [
    "codebook_dictionary"
   ]
  },
  {
   "cell_type": "code",
   "execution_count": 8,
   "metadata": {
    "collapsed": false
   },
   "outputs": [
    {
     "data": {
      "text/plain": [
       "['PRTAGE', 'PERRP', 'GEREG', 'PEMARITL', 'PEMLR', 'PESEX']"
      ]
     },
     "execution_count": 8,
     "metadata": {},
     "output_type": "execute_result"
    }
   ],
   "source": [
    "names = codebook_dictionary.keys()\n",
    "names"
   ]
  },
  {
   "cell_type": "code",
   "execution_count": 9,
   "metadata": {
    "collapsed": false
   },
   "outputs": [
    {
     "data": {
      "text/plain": [
       "[(121, 123), (117, 119), (88, 90), (124, 126), (179, 181), (128, 130)]"
      ]
     },
     "execution_count": 9,
     "metadata": {},
     "output_type": "execute_result"
    }
   ],
   "source": [
    "positions = [codebook_dictionary.get(n) for n in names]\n",
    "positions"
   ]
  },
  {
   "cell_type": "code",
   "execution_count": 10,
   "metadata": {
    "collapsed": false
   },
   "outputs": [],
   "source": [
    "cps = pd.read_fwf(cps_file, colspecs = positions, names = names)"
   ]
  },
  {
   "cell_type": "code",
   "execution_count": 11,
   "metadata": {
    "collapsed": false
   },
   "outputs": [
    {
     "data": {
      "text/html": [
       "<div>\n",
       "<table border=\"1\" class=\"dataframe\">\n",
       "  <thead>\n",
       "    <tr style=\"text-align: right;\">\n",
       "      <th></th>\n",
       "      <th>PRTAGE</th>\n",
       "      <th>PERRP</th>\n",
       "      <th>GEREG</th>\n",
       "      <th>PEMARITL</th>\n",
       "      <th>PEMLR</th>\n",
       "      <th>PESEX</th>\n",
       "    </tr>\n",
       "  </thead>\n",
       "  <tbody>\n",
       "    <tr>\n",
       "      <th>0</th>\n",
       "      <td>55</td>\n",
       "      <td>1</td>\n",
       "      <td>4</td>\n",
       "      <td>1</td>\n",
       "      <td>1</td>\n",
       "      <td>1</td>\n",
       "    </tr>\n",
       "    <tr>\n",
       "      <th>1</th>\n",
       "      <td>67</td>\n",
       "      <td>3</td>\n",
       "      <td>3</td>\n",
       "      <td>1</td>\n",
       "      <td>5</td>\n",
       "      <td>2</td>\n",
       "    </tr>\n",
       "    <tr>\n",
       "      <th>2</th>\n",
       "      <td>54</td>\n",
       "      <td>1</td>\n",
       "      <td>4</td>\n",
       "      <td>1</td>\n",
       "      <td>1</td>\n",
       "      <td>1</td>\n",
       "    </tr>\n",
       "    <tr>\n",
       "      <th>3</th>\n",
       "      <td>23</td>\n",
       "      <td>2</td>\n",
       "      <td>4</td>\n",
       "      <td>6</td>\n",
       "      <td>1</td>\n",
       "      <td>2</td>\n",
       "    </tr>\n",
       "    <tr>\n",
       "      <th>4</th>\n",
       "      <td>62</td>\n",
       "      <td>3</td>\n",
       "      <td>4</td>\n",
       "      <td>1</td>\n",
       "      <td>5</td>\n",
       "      <td>2</td>\n",
       "    </tr>\n",
       "  </tbody>\n",
       "</table>\n",
       "</div>"
      ],
      "text/plain": [
       "   PRTAGE  PERRP  GEREG  PEMARITL  PEMLR  PESEX\n",
       "0      55      1      4         1      1      1\n",
       "1      67      3      3         1      5      2\n",
       "2      54      1      4         1      1      1\n",
       "3      23      2      4         6      1      2\n",
       "4      62      3      4         1      5      2"
      ]
     },
     "execution_count": 11,
     "metadata": {},
     "output_type": "execute_result"
    }
   ],
   "source": [
    "cps.head()"
   ]
  },
  {
   "cell_type": "code",
   "execution_count": 12,
   "metadata": {
    "collapsed": false
   },
   "outputs": [
    {
     "data": {
      "text/plain": [
       "3    337\n",
       "4    257\n",
       "2    222\n",
       "1    184\n",
       "dtype: int64"
      ]
     },
     "execution_count": 12,
     "metadata": {},
     "output_type": "execute_result"
    }
   ],
   "source": [
    "region_check = cps.GEREG.value_counts()\n",
    "region_check"
   ]
  },
  {
   "cell_type": "markdown",
   "metadata": {},
   "source": [
    "#### An Aside: How to order by category?"
   ]
  },
  {
   "cell_type": "code",
   "execution_count": 13,
   "metadata": {
    "collapsed": false
   },
   "outputs": [],
   "source": [
    "region_order = region_check.index"
   ]
  },
  {
   "cell_type": "code",
   "execution_count": 14,
   "metadata": {
    "collapsed": false
   },
   "outputs": [
    {
     "data": {
      "text/plain": [
       "Int64Index([3, 4, 2, 1], dtype='int64')"
      ]
     },
     "execution_count": 14,
     "metadata": {},
     "output_type": "execute_result"
    }
   ],
   "source": [
    "region_order"
   ]
  },
  {
   "cell_type": "code",
   "execution_count": 15,
   "metadata": {
    "collapsed": false
   },
   "outputs": [
    {
     "data": {
      "text/plain": [
       "[1, 2, 3, 4]"
      ]
     },
     "execution_count": 15,
     "metadata": {},
     "output_type": "execute_result"
    }
   ],
   "source": [
    "sorted_reg_ix = sorted(region_order)\n",
    "sorted_reg_ix"
   ]
  },
  {
   "cell_type": "code",
   "execution_count": 16,
   "metadata": {
    "collapsed": false
   },
   "outputs": [
    {
     "data": {
      "text/plain": [
       "1    184\n",
       "2    222\n",
       "3    337\n",
       "4    257\n",
       "dtype: int64"
      ]
     },
     "execution_count": 16,
     "metadata": {},
     "output_type": "execute_result"
    }
   ],
   "source": [
    "region_check[sorted_reg_ix]"
   ]
  },
  {
   "cell_type": "markdown",
   "metadata": {},
   "source": [
    "### Check against Bash to make sure we are counting the right thing"
   ]
  },
  {
   "cell_type": "code",
   "execution_count": 17,
   "metadata": {
    "collapsed": false
   },
   "outputs": [
    {
     "name": "stdout",
     "output_type": "stream",
     "text": [
      " 184  1\n",
      " 222  2\n",
      " 337  3\n",
      " 257  4\n"
     ]
    }
   ],
   "source": [
    "%%bash\n",
    "cut -c 89-90 bootcamp_cps/mar14pub_1k.dat | sort | uniq -c"
   ]
  },
  {
   "cell_type": "markdown",
   "metadata": {},
   "source": [
    "### Assign Category Values"
   ]
  },
  {
   "cell_type": "code",
   "execution_count": 18,
   "metadata": {
    "collapsed": false
   },
   "outputs": [],
   "source": [
    "region_codes = {1: \"Northeast\", 2:\"Midwest\", 3:\"South\", 4: \"West\"}\n",
    "sex_codes = {1: \"Male\", 2: \"Female\"}\n",
    "marital_status_codes = {1: \"Married - Spouse Present\", \n",
    "                        2: \"Married - Spouse Absent\",\n",
    "                        3: \"Widowed\", 4: \"Divorced\", 5: \"Separated\",\n",
    "                        6: \"Never Married\"}"
   ]
  },
  {
   "cell_type": "code",
   "execution_count": 19,
   "metadata": {
    "collapsed": false
   },
   "outputs": [],
   "source": [
    "cps['region'] = [region_codes.get(r) for r in cps['GEREG']]\n",
    "cps['sex'] = [sex_codes.get(r) for r in cps['PESEX']]\n",
    "cps['marital_status'] = [marital_status_codes.get(r) for r in cps['PEMARITL']]"
   ]
  },
  {
   "cell_type": "code",
   "execution_count": 20,
   "metadata": {
    "collapsed": false
   },
   "outputs": [
    {
     "data": {
      "text/html": [
       "<div>\n",
       "<table border=\"1\" class=\"dataframe\">\n",
       "  <thead>\n",
       "    <tr style=\"text-align: right;\">\n",
       "      <th></th>\n",
       "      <th>PRTAGE</th>\n",
       "      <th>PERRP</th>\n",
       "      <th>GEREG</th>\n",
       "      <th>PEMARITL</th>\n",
       "      <th>PEMLR</th>\n",
       "      <th>PESEX</th>\n",
       "      <th>region</th>\n",
       "      <th>sex</th>\n",
       "      <th>marital_status</th>\n",
       "    </tr>\n",
       "  </thead>\n",
       "  <tbody>\n",
       "    <tr>\n",
       "      <th>0</th>\n",
       "      <td>55</td>\n",
       "      <td>1</td>\n",
       "      <td>4</td>\n",
       "      <td>1</td>\n",
       "      <td>1</td>\n",
       "      <td>1</td>\n",
       "      <td>West</td>\n",
       "      <td>Male</td>\n",
       "      <td>Married - Spouse Present</td>\n",
       "    </tr>\n",
       "    <tr>\n",
       "      <th>1</th>\n",
       "      <td>67</td>\n",
       "      <td>3</td>\n",
       "      <td>3</td>\n",
       "      <td>1</td>\n",
       "      <td>5</td>\n",
       "      <td>2</td>\n",
       "      <td>South</td>\n",
       "      <td>Female</td>\n",
       "      <td>Married - Spouse Present</td>\n",
       "    </tr>\n",
       "    <tr>\n",
       "      <th>2</th>\n",
       "      <td>54</td>\n",
       "      <td>1</td>\n",
       "      <td>4</td>\n",
       "      <td>1</td>\n",
       "      <td>1</td>\n",
       "      <td>1</td>\n",
       "      <td>West</td>\n",
       "      <td>Male</td>\n",
       "      <td>Married - Spouse Present</td>\n",
       "    </tr>\n",
       "    <tr>\n",
       "      <th>3</th>\n",
       "      <td>23</td>\n",
       "      <td>2</td>\n",
       "      <td>4</td>\n",
       "      <td>6</td>\n",
       "      <td>1</td>\n",
       "      <td>2</td>\n",
       "      <td>West</td>\n",
       "      <td>Female</td>\n",
       "      <td>Never Married</td>\n",
       "    </tr>\n",
       "    <tr>\n",
       "      <th>4</th>\n",
       "      <td>62</td>\n",
       "      <td>3</td>\n",
       "      <td>4</td>\n",
       "      <td>1</td>\n",
       "      <td>5</td>\n",
       "      <td>2</td>\n",
       "      <td>West</td>\n",
       "      <td>Female</td>\n",
       "      <td>Married - Spouse Present</td>\n",
       "    </tr>\n",
       "  </tbody>\n",
       "</table>\n",
       "</div>"
      ],
      "text/plain": [
       "   PRTAGE  PERRP  GEREG  PEMARITL  PEMLR  PESEX region     sex  \\\n",
       "0      55      1      4         1      1      1   West    Male   \n",
       "1      67      3      3         1      5      2  South  Female   \n",
       "2      54      1      4         1      1      1   West    Male   \n",
       "3      23      2      4         6      1      2   West  Female   \n",
       "4      62      3      4         1      5      2   West  Female   \n",
       "\n",
       "             marital_status  \n",
       "0  Married - Spouse Present  \n",
       "1  Married - Spouse Present  \n",
       "2  Married - Spouse Present  \n",
       "3             Never Married  \n",
       "4  Married - Spouse Present  "
      ]
     },
     "execution_count": 20,
     "metadata": {},
     "output_type": "execute_result"
    }
   ],
   "source": [
    "cps.head()"
   ]
  },
  {
   "cell_type": "markdown",
   "metadata": {},
   "source": [
    "## Frequency Table"
   ]
  },
  {
   "cell_type": "code",
   "execution_count": 21,
   "metadata": {
    "collapsed": false
   },
   "outputs": [
    {
     "data": {
      "text/plain": [
       "-1.086     210\n",
       " 50.600    114\n",
       " 33.400    102\n",
       " 7.600     102\n",
       " 24.800    101\n",
       " 59.200     93\n",
       " 42.000     88\n",
       " 16.200     86\n",
       " 67.800     56\n",
       " 76.400     48\n",
       "dtype: int64"
      ]
     },
     "execution_count": 21,
     "metadata": {},
     "output_type": "execute_result"
    }
   ],
   "source": [
    "cps.PRTAGE.value_counts(bins=10)"
   ]
  },
  {
   "cell_type": "code",
   "execution_count": 22,
   "metadata": {
    "collapsed": false
   },
   "outputs": [
    {
     "data": {
      "text/plain": [
       "<matplotlib.axes._subplots.AxesSubplot at 0x107ccab90>"
      ]
     },
     "execution_count": 22,
     "metadata": {},
     "output_type": "execute_result"
    },
    {
     "data": {
      "image/png": "[encoded data removed]",
      "text/plain": [
       "<matplotlib.figure.Figure at 0x107cca890>"
      ]
     },
     "metadata": {},
     "output_type": "display_data"
    }
   ],
   "source": [
    "# Age Distribution, excluding those coded as '-1'\n",
    "cps.PRTAGE[cps.PRTAGE != -1].hist(bins=20)"
   ]
  },
  {
   "cell_type": "markdown",
   "metadata": {},
   "source": [
    "### Cross-Tabs"
   ]
  },
  {
   "cell_type": "code",
   "execution_count": 23,
   "metadata": {
    "collapsed": false
   },
   "outputs": [
    {
     "data": {
      "text/html": [
       "<div>\n",
       "<table border=\"1\" class=\"dataframe\">\n",
       "  <thead>\n",
       "    <tr style=\"text-align: right;\">\n",
       "      <th>region</th>\n",
       "      <th>Midwest</th>\n",
       "      <th>Northeast</th>\n",
       "      <th>South</th>\n",
       "      <th>West</th>\n",
       "    </tr>\n",
       "    <tr>\n",
       "      <th>sex</th>\n",
       "      <th></th>\n",
       "      <th></th>\n",
       "      <th></th>\n",
       "      <th></th>\n",
       "    </tr>\n",
       "  </thead>\n",
       "  <tbody>\n",
       "    <tr>\n",
       "      <th>Female</th>\n",
       "      <td>97</td>\n",
       "      <td>84</td>\n",
       "      <td>158</td>\n",
       "      <td>116</td>\n",
       "    </tr>\n",
       "    <tr>\n",
       "      <th>Male</th>\n",
       "      <td>99</td>\n",
       "      <td>75</td>\n",
       "      <td>125</td>\n",
       "      <td>113</td>\n",
       "    </tr>\n",
       "  </tbody>\n",
       "</table>\n",
       "</div>"
      ],
      "text/plain": [
       "region  Midwest  Northeast  South  West\n",
       "sex                                    \n",
       "Female       97         84    158   116\n",
       "Male         99         75    125   113"
      ]
     },
     "execution_count": 23,
     "metadata": {},
     "output_type": "execute_result"
    }
   ],
   "source": [
    "# Counts\n",
    "frequencies = pd.crosstab(cps.sex, cps.region)\n",
    "frequencies"
   ]
  },
  {
   "cell_type": "code",
   "execution_count": 24,
   "metadata": {
    "collapsed": false
   },
   "outputs": [
    {
     "data": {
      "text/html": [
       "<div>\n",
       "<table border=\"1\" class=\"dataframe\">\n",
       "  <thead>\n",
       "    <tr style=\"text-align: right;\">\n",
       "      <th>region</th>\n",
       "      <th>Midwest</th>\n",
       "      <th>Northeast</th>\n",
       "      <th>South</th>\n",
       "      <th>West</th>\n",
       "    </tr>\n",
       "    <tr>\n",
       "      <th>sex</th>\n",
       "      <th></th>\n",
       "      <th></th>\n",
       "      <th></th>\n",
       "      <th></th>\n",
       "    </tr>\n",
       "  </thead>\n",
       "  <tbody>\n",
       "    <tr>\n",
       "      <th>Female</th>\n",
       "      <td>0.494898</td>\n",
       "      <td>0.528302</td>\n",
       "      <td>0.558304</td>\n",
       "      <td>0.50655</td>\n",
       "    </tr>\n",
       "    <tr>\n",
       "      <th>Male</th>\n",
       "      <td>0.505102</td>\n",
       "      <td>0.471698</td>\n",
       "      <td>0.441696</td>\n",
       "      <td>0.49345</td>\n",
       "    </tr>\n",
       "  </tbody>\n",
       "</table>\n",
       "</div>"
      ],
      "text/plain": [
       "region   Midwest  Northeast     South     West\n",
       "sex                                           \n",
       "Female  0.494898   0.528302  0.558304  0.50655\n",
       "Male    0.505102   0.471698  0.441696  0.49345"
      ]
     },
     "execution_count": 24,
     "metadata": {},
     "output_type": "execute_result"
    }
   ],
   "source": [
    "# Colum Percentages (axis=0)\n",
    "col_pcts = pd.crosstab(cps.sex, cps.region).apply(lambda r: r/r.sum(), axis=0)\n",
    "col_pcts"
   ]
  },
  {
   "cell_type": "code",
   "execution_count": 25,
   "metadata": {
    "collapsed": false
   },
   "outputs": [
    {
     "data": {
      "text/html": [
       "<div>\n",
       "<table border=\"1\" class=\"dataframe\">\n",
       "  <thead>\n",
       "    <tr style=\"text-align: right;\">\n",
       "      <th>region</th>\n",
       "      <th>Midwest</th>\n",
       "      <th>Northeast</th>\n",
       "      <th>South</th>\n",
       "      <th>West</th>\n",
       "      <th>Row_Sum</th>\n",
       "    </tr>\n",
       "    <tr>\n",
       "      <th>sex</th>\n",
       "      <th></th>\n",
       "      <th></th>\n",
       "      <th></th>\n",
       "      <th></th>\n",
       "      <th></th>\n",
       "    </tr>\n",
       "  </thead>\n",
       "  <tbody>\n",
       "    <tr>\n",
       "      <th>Female</th>\n",
       "      <td>97</td>\n",
       "      <td>84</td>\n",
       "      <td>158</td>\n",
       "      <td>116</td>\n",
       "      <td>455</td>\n",
       "    </tr>\n",
       "    <tr>\n",
       "      <th>Male</th>\n",
       "      <td>99</td>\n",
       "      <td>75</td>\n",
       "      <td>125</td>\n",
       "      <td>113</td>\n",
       "      <td>412</td>\n",
       "    </tr>\n",
       "  </tbody>\n",
       "</table>\n",
       "</div>"
      ],
      "text/plain": [
       "region  Midwest  Northeast  South  West  Row_Sum\n",
       "sex                                             \n",
       "Female       97         84    158   116      455\n",
       "Male         99         75    125   113      412"
      ]
     },
     "execution_count": 25,
     "metadata": {},
     "output_type": "execute_result"
    }
   ],
   "source": [
    "tab1 = pd.crosstab(cps.sex, cps.region)\n",
    "tab1['Row_Sum'] = tab1.sum(axis=1)\n",
    "tab1"
   ]
  },
  {
   "cell_type": "code",
   "execution_count": 26,
   "metadata": {
    "collapsed": false
   },
   "outputs": [
    {
     "data": {
      "text/plain": [
       "region\n",
       "Midwest      196\n",
       "Northeast    159\n",
       "South        283\n",
       "West         229\n",
       "Row_Sum      867\n",
       "dtype: int64"
      ]
     },
     "execution_count": 26,
     "metadata": {},
     "output_type": "execute_result"
    }
   ],
   "source": [
    "tab1.sum(axis=0, name=\"Col_Sum\")"
   ]
  },
  {
   "cell_type": "code",
   "execution_count": 27,
   "metadata": {
    "collapsed": false
   },
   "outputs": [],
   "source": [
    "# extend dataframe using .loc method\n",
    "tab1.loc[\"Col_Sum\",:] = tab1.sum(axis=0, name=\"Col_Sum\")"
   ]
  },
  {
   "cell_type": "code",
   "execution_count": 28,
   "metadata": {
    "collapsed": false
   },
   "outputs": [
    {
     "data": {
      "text/html": [
       "<div>\n",
       "<table border=\"1\" class=\"dataframe\">\n",
       "  <thead>\n",
       "    <tr style=\"text-align: right;\">\n",
       "      <th>region</th>\n",
       "      <th>Midwest</th>\n",
       "      <th>Northeast</th>\n",
       "      <th>South</th>\n",
       "      <th>West</th>\n",
       "      <th>Row_Sum</th>\n",
       "    </tr>\n",
       "    <tr>\n",
       "      <th>sex</th>\n",
       "      <th></th>\n",
       "      <th></th>\n",
       "      <th></th>\n",
       "      <th></th>\n",
       "      <th></th>\n",
       "    </tr>\n",
       "  </thead>\n",
       "  <tbody>\n",
       "    <tr>\n",
       "      <th>Female</th>\n",
       "      <td>97</td>\n",
       "      <td>84</td>\n",
       "      <td>158</td>\n",
       "      <td>116</td>\n",
       "      <td>455</td>\n",
       "    </tr>\n",
       "    <tr>\n",
       "      <th>Male</th>\n",
       "      <td>99</td>\n",
       "      <td>75</td>\n",
       "      <td>125</td>\n",
       "      <td>113</td>\n",
       "      <td>412</td>\n",
       "    </tr>\n",
       "    <tr>\n",
       "      <th>Col_Sum</th>\n",
       "      <td>196</td>\n",
       "      <td>159</td>\n",
       "      <td>283</td>\n",
       "      <td>229</td>\n",
       "      <td>867</td>\n",
       "    </tr>\n",
       "  </tbody>\n",
       "</table>\n",
       "</div>"
      ],
      "text/plain": [
       "region   Midwest  Northeast  South  West  Row_Sum\n",
       "sex                                              \n",
       "Female        97         84    158   116      455\n",
       "Male          99         75    125   113      412\n",
       "Col_Sum      196        159    283   229      867"
      ]
     },
     "execution_count": 28,
     "metadata": {},
     "output_type": "execute_result"
    }
   ],
   "source": [
    "tab1"
   ]
  },
  {
   "cell_type": "markdown",
   "metadata": {},
   "source": [
    "### Chi-squared test for a cross-tab"
   ]
  },
  {
   "cell_type": "code",
   "execution_count": 29,
   "metadata": {
    "collapsed": false
   },
   "outputs": [],
   "source": [
    "from scipy.stats import chisquare"
   ]
  },
  {
   "cell_type": "code",
   "execution_count": 30,
   "metadata": {
    "collapsed": false
   },
   "outputs": [],
   "source": [
    "observed = np.array(frequencies)"
   ]
  },
  {
   "cell_type": "code",
   "execution_count": 31,
   "metadata": {
    "collapsed": false
   },
   "outputs": [],
   "source": [
    "expected = (np.sum(observed) * np.ones(observed.shape)) / (observed.shape[0] * observed.shape[1])"
   ]
  },
  {
   "cell_type": "code",
   "execution_count": 32,
   "metadata": {
    "collapsed": false
   },
   "outputs": [
    {
     "data": {
      "text/plain": [
       "array([[ 97,  84, 158, 116],\n",
       "       [ 99,  75, 125, 113]])"
      ]
     },
     "execution_count": 32,
     "metadata": {},
     "output_type": "execute_result"
    }
   ],
   "source": [
    "observed"
   ]
  },
  {
   "cell_type": "code",
   "execution_count": 33,
   "metadata": {
    "collapsed": false
   },
   "outputs": [
    {
     "data": {
      "text/plain": [
       "array([[ 108.375,  108.375,  108.375,  108.375],\n",
       "       [ 108.375,  108.375,  108.375,  108.375]])"
      ]
     },
     "execution_count": 33,
     "metadata": {},
     "output_type": "execute_result"
    }
   ],
   "source": [
    "expected"
   ]
  },
  {
   "cell_type": "code",
   "execution_count": 34,
   "metadata": {
    "collapsed": false
   },
   "outputs": [
    {
     "data": {
      "text/plain": [
       "(array([ 27.50549451,  13.4368932 ]),\n",
       " array([  4.61226271e-06,   3.78103850e-03]))"
      ]
     },
     "execution_count": 34,
     "metadata": {},
     "output_type": "execute_result"
    }
   ],
   "source": [
    "# chi-squared test on distribution of M and F\n",
    "chisquare(observed, axis=1)"
   ]
  },
  {
   "cell_type": "code",
   "execution_count": 35,
   "metadata": {
    "collapsed": false
   },
   "outputs": [
    {
     "data": {
      "text/plain": [
       "(array([ 0.02040816,  0.50943396,  3.84805654,  0.03930131]),\n",
       " array([ 0.88640301,  0.47538399,  0.04980367,  0.84285293]))"
      ]
     },
     "execution_count": 35,
     "metadata": {},
     "output_type": "execute_result"
    }
   ],
   "source": [
    "# chi-suqared test on distribution of region\n",
    "chisquare(observed, axis=0)"
   ]
  },
  {
   "cell_type": "code",
   "execution_count": 36,
   "metadata": {
    "collapsed": false
   },
   "outputs": [
    {
     "data": {
      "text/plain": [
       "(43.772779700115336, 2.3648444893647314e-07)"
      ]
     },
     "execution_count": 36,
     "metadata": {},
     "output_type": "execute_result"
    }
   ],
   "source": [
    "# chi-squared test on overall frequencies\n",
    "chisquare(observed, axis=None)"
   ]
  },
  {
   "cell_type": "code",
   "execution_count": 37,
   "metadata": {
    "collapsed": false
   },
   "outputs": [
    {
     "data": {
      "text/plain": [
       "(0.0, 1.0)"
      ]
     },
     "execution_count": 37,
     "metadata": {},
     "output_type": "execute_result"
    }
   ],
   "source": [
    "# Chi-square test on uniformly-distributed data\n",
    "chisquare(expected, axis=None)"
   ]
  },
  {
   "cell_type": "markdown",
   "metadata": {},
   "source": [
    "Read more about Python chi-square test here:\n",
    "http://docs.scipy.org/doc/scipy/reference/generated/scipy.stats.mstats.chisquare.html"
   ]
  },
  {
   "cell_type": "markdown",
   "metadata": {},
   "source": [
    "## LaTeX example...\n",
    "\n",
    "\\begin{aligned}\n",
    "C_t &= \\alpha_0 + \\alpha_1 P_t + \\alpha_2 P_{t-1} + \\alpha_3(W^p_t + W^g_t) + \\epsilon_{1t} \\\\\n",
    "I_t &= \\beta_0 + \\beta_1 P_t + \\beta_2 P_{t-1} + \\beta_3 K_{t-1} + \\epsilon_{2t} \\\\\n",
    "W^p_t &= \\gamma_0 + \\gamma_1 X_t + \\gamma_2 X_{t-1} + \\gamma_3 A_t + \\epsilon_{3t} \\\\\n",
    "K_t &= K_{t-1} + I_t \n",
    "\\end{aligned}"
   ]
  },
  {
   "cell_type": "markdown",
   "metadata": {},
   "source": [
    "\\begin{aligned}\n",
    "S_{i+1} = S_i e^{-\\lambda\\delta} + \\mu(1-e^{-\\lambda\\delta}) + \\sigma \\sqrt{\\frac{1 - e^{-2\\lambda\\delta}}{2\\lambda}} N_{0,1}\n",
    "\\end{aligned}"
   ]
  },
  {
   "cell_type": "code",
   "execution_count": null,
   "metadata": {
    "collapsed": false
   },
   "outputs": [],
   "source": []
  }
 ],
 "metadata": {
  "kernelspec": {
   "display_name": "Python 2",
   "language": "python",
   "name": "python2"
  },
  "language_info": {
   "codemirror_mode": {
    "name": "ipython",
    "version": 2
   },
   "file_extension": ".py",
   "mimetype": "text/x-python",
   "name": "python",
   "nbconvert_exporter": "python",
   "pygments_lexer": "ipython2",
   "version": "2.7.10"
  }
 },
 "nbformat": 4,
 "nbformat_minor": 0
}
