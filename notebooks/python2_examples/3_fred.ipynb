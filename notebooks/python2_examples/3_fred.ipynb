{
 "cells": [
  {
   "cell_type": "markdown",
   "metadata": {},
   "source": [
    "# Reading Data from Remote Sources\n",
    "### Plus: Plotting and Aggregation with Pivot Table\n",
    "\n",
    "Pandas DataReader Documentation: <http://pandas.pydata.org/pandas-docs/stable/remote_data.html>\n",
    "\n",
    "> pandas `DataReader` can access data from:\n",
    "\n",
    "* Yahoo! Finance\n",
    "* Google Finance\n",
    "* St.Louis FED (FRED)\n",
    "* Fama / French Data Library <http://mba.tuck.dartmouth.edu/pages/faculty/ken.french/data_library.html>\n",
    "* World Bank\n",
    "* Google Analytics\n"
   ]
  },
  {
   "cell_type": "code",
   "execution_count": 1,
   "metadata": {
    "collapsed": false
   },
   "outputs": [],
   "source": [
    "%matplotlib inline\n",
    "# this must come before importing matplotlib.pylab"
   ]
  },
  {
   "cell_type": "code",
   "execution_count": 2,
   "metadata": {
    "collapsed": false
   },
   "outputs": [],
   "source": [
    "import pandas as pd\n",
    "import numpy as np\n",
    "import matplotlib.pylab\n",
    "import pandas.io.data as web\n",
    "import datetime"
   ]
  },
  {
   "cell_type": "markdown",
   "metadata": {},
   "source": [
    "## FRED\n",
    "\n",
    "St. Louis Fed"
   ]
  },
  {
   "cell_type": "code",
   "execution_count": 48,
   "metadata": {
    "collapsed": false
   },
   "outputs": [
    {
     "data": {
      "text/plain": [
       "GDP    16440.7\n",
       "Name: 2013-01-01 00:00:00, dtype: float64"
      ]
     },
     "execution_count": 48,
     "metadata": {},
     "output_type": "execute_result"
    }
   ],
   "source": [
    "start = datetime.datetime(1980, 1, 1)\n",
    "end = datetime.datetime(2016, 1, 1)\n",
    "gdp=web.DataReader(\"GDP\", \"fred\", start, end)\n",
    "gdp.ix['2013-01-01']"
   ]
  },
  {
   "cell_type": "code",
   "execution_count": 49,
   "metadata": {
    "collapsed": false
   },
   "outputs": [
    {
     "data": {
      "text/html": [
       "<div>\n",
       "<table border=\"1\" class=\"dataframe\">\n",
       "  <thead>\n",
       "    <tr style=\"text-align: right;\">\n",
       "      <th></th>\n",
       "      <th>GDP</th>\n",
       "    </tr>\n",
       "    <tr>\n",
       "      <th>DATE</th>\n",
       "      <th></th>\n",
       "    </tr>\n",
       "  </thead>\n",
       "  <tbody>\n",
       "    <tr>\n",
       "      <th>1980-01-01</th>\n",
       "      <td>2796.5</td>\n",
       "    </tr>\n",
       "    <tr>\n",
       "      <th>1980-04-01</th>\n",
       "      <td>2799.9</td>\n",
       "    </tr>\n",
       "    <tr>\n",
       "      <th>1980-07-01</th>\n",
       "      <td>2860.0</td>\n",
       "    </tr>\n",
       "    <tr>\n",
       "      <th>1980-10-01</th>\n",
       "      <td>2993.5</td>\n",
       "    </tr>\n",
       "    <tr>\n",
       "      <th>1981-01-01</th>\n",
       "      <td>3131.8</td>\n",
       "    </tr>\n",
       "  </tbody>\n",
       "</table>\n",
       "</div>"
      ],
      "text/plain": [
       "               GDP\n",
       "DATE              \n",
       "1980-01-01  2796.5\n",
       "1980-04-01  2799.9\n",
       "1980-07-01  2860.0\n",
       "1980-10-01  2993.5\n",
       "1981-01-01  3131.8"
      ]
     },
     "execution_count": 49,
     "metadata": {},
     "output_type": "execute_result"
    }
   ],
   "source": [
    "gdp.head()"
   ]
  },
  {
   "cell_type": "code",
   "execution_count": 50,
   "metadata": {
    "collapsed": false
   },
   "outputs": [
    {
     "data": {
      "text/html": [
       "<div>\n",
       "<table border=\"1\" class=\"dataframe\">\n",
       "  <thead>\n",
       "    <tr style=\"text-align: right;\">\n",
       "      <th></th>\n",
       "      <th>GDP</th>\n",
       "    </tr>\n",
       "    <tr>\n",
       "      <th>DATE</th>\n",
       "      <th></th>\n",
       "    </tr>\n",
       "  </thead>\n",
       "  <tbody>\n",
       "    <tr>\n",
       "      <th>2014-07-01</th>\n",
       "      <td>17522.1</td>\n",
       "    </tr>\n",
       "    <tr>\n",
       "      <th>2014-10-01</th>\n",
       "      <td>17615.9</td>\n",
       "    </tr>\n",
       "    <tr>\n",
       "      <th>2015-01-01</th>\n",
       "      <td>17649.3</td>\n",
       "    </tr>\n",
       "    <tr>\n",
       "      <th>2015-04-01</th>\n",
       "      <td>17913.7</td>\n",
       "    </tr>\n",
       "    <tr>\n",
       "      <th>2015-07-01</th>\n",
       "      <td>18060.2</td>\n",
       "    </tr>\n",
       "  </tbody>\n",
       "</table>\n",
       "</div>"
      ],
      "text/plain": [
       "                GDP\n",
       "DATE               \n",
       "2014-07-01  17522.1\n",
       "2014-10-01  17615.9\n",
       "2015-01-01  17649.3\n",
       "2015-04-01  17913.7\n",
       "2015-07-01  18060.2"
      ]
     },
     "execution_count": 50,
     "metadata": {},
     "output_type": "execute_result"
    }
   ],
   "source": [
    "gdp.tail()"
   ]
  },
  {
   "cell_type": "code",
   "execution_count": 51,
   "metadata": {
    "collapsed": false
   },
   "outputs": [
    {
     "data": {
      "text/plain": [
       "DatetimeIndex(['1980-01-01', '1980-04-01', '1980-07-01', '1980-10-01',\n",
       "               '1981-01-01', '1981-04-01', '1981-07-01', '1981-10-01',\n",
       "               '1982-01-01', '1982-04-01', \n",
       "               ...\n",
       "               '2013-04-01', '2013-07-01', '2013-10-01', '2014-01-01',\n",
       "               '2014-04-01', '2014-07-01', '2014-10-01', '2015-01-01',\n",
       "               '2015-04-01', '2015-07-01'],\n",
       "              dtype='datetime64[ns]', name=u'DATE', length=143, freq=None, tz=None)"
      ]
     },
     "execution_count": 51,
     "metadata": {},
     "output_type": "execute_result"
    }
   ],
   "source": [
    "gdp.index"
   ]
  },
  {
   "cell_type": "code",
   "execution_count": 52,
   "metadata": {
    "collapsed": false
   },
   "outputs": [
    {
     "data": {
      "text/plain": [
       "(143, 1)"
      ]
     },
     "execution_count": 52,
     "metadata": {},
     "output_type": "execute_result"
    }
   ],
   "source": [
    "gdp.shape"
   ]
  },
  {
   "cell_type": "code",
   "execution_count": 53,
   "metadata": {
    "collapsed": false
   },
   "outputs": [
    {
     "data": {
      "text/plain": [
       "<matplotlib.axes._subplots.AxesSubplot at 0x10923ebd0>"
      ]
     },
     "execution_count": 53,
     "metadata": {},
     "output_type": "execute_result"
    },
    {
     "data": {
      "image/png": "[encoded data removed]",
      "text/plain": [
       "<matplotlib.figure.Figure at 0x108e36b90>"
      ]
     },
     "metadata": {},
     "output_type": "display_data"
    }
   ],
   "source": [
    "gdp.plot(logy=True, title=\"US Nominal GDP, log scale\")"
   ]
  },
  {
   "cell_type": "markdown",
   "metadata": {},
   "source": [
    "# Combining Data with Different Periodicity"
   ]
  },
  {
   "cell_type": "code",
   "execution_count": 54,
   "metadata": {
    "collapsed": false
   },
   "outputs": [],
   "source": [
    "# 10 year Treausy constant maturity yield, weekly\n",
    "CMT10 = web.DataReader(\"WGS10YR\", \"fred\", start, end)"
   ]
  },
  {
   "cell_type": "code",
   "execution_count": 55,
   "metadata": {
    "collapsed": false
   },
   "outputs": [],
   "source": [
    "# CPI-U, Seasonally Adjusted, monthly\n",
    "CPIU = web.DataReader(\"CPIAUCSL\", \"fred\", start, end)"
   ]
  },
  {
   "cell_type": "code",
   "execution_count": 56,
   "metadata": {
    "collapsed": false
   },
   "outputs": [],
   "source": [
    "# NBER Recession Indicator \n",
    "recession = web.DataReader(\"USREC\", \"fred\", start, end)"
   ]
  },
  {
   "cell_type": "code",
   "execution_count": 57,
   "metadata": {
    "collapsed": false
   },
   "outputs": [],
   "source": [
    "cmt = CMT10.asfreq('D', method='pad')"
   ]
  },
  {
   "cell_type": "code",
   "execution_count": 58,
   "metadata": {
    "collapsed": false
   },
   "outputs": [
    {
     "data": {
      "text/html": [
       "<div>\n",
       "<table border=\"1\" class=\"dataframe\">\n",
       "  <thead>\n",
       "    <tr style=\"text-align: right;\">\n",
       "      <th></th>\n",
       "      <th>WGS10YR</th>\n",
       "    </tr>\n",
       "    <tr>\n",
       "      <th>DATE</th>\n",
       "      <th></th>\n",
       "    </tr>\n",
       "  </thead>\n",
       "  <tbody>\n",
       "    <tr>\n",
       "      <th>1980-01-04</th>\n",
       "      <td>10.52</td>\n",
       "    </tr>\n",
       "    <tr>\n",
       "      <th>1980-01-05</th>\n",
       "      <td>10.52</td>\n",
       "    </tr>\n",
       "    <tr>\n",
       "      <th>1980-01-06</th>\n",
       "      <td>10.52</td>\n",
       "    </tr>\n",
       "    <tr>\n",
       "      <th>1980-01-07</th>\n",
       "      <td>10.52</td>\n",
       "    </tr>\n",
       "    <tr>\n",
       "      <th>1980-01-08</th>\n",
       "      <td>10.52</td>\n",
       "    </tr>\n",
       "    <tr>\n",
       "      <th>1980-01-09</th>\n",
       "      <td>10.52</td>\n",
       "    </tr>\n",
       "    <tr>\n",
       "      <th>1980-01-10</th>\n",
       "      <td>10.52</td>\n",
       "    </tr>\n",
       "    <tr>\n",
       "      <th>1980-01-11</th>\n",
       "      <td>10.59</td>\n",
       "    </tr>\n",
       "    <tr>\n",
       "      <th>1980-01-12</th>\n",
       "      <td>10.59</td>\n",
       "    </tr>\n",
       "    <tr>\n",
       "      <th>1980-01-13</th>\n",
       "      <td>10.59</td>\n",
       "    </tr>\n",
       "  </tbody>\n",
       "</table>\n",
       "</div>"
      ],
      "text/plain": [
       "            WGS10YR\n",
       "DATE               \n",
       "1980-01-04    10.52\n",
       "1980-01-05    10.52\n",
       "1980-01-06    10.52\n",
       "1980-01-07    10.52\n",
       "1980-01-08    10.52\n",
       "1980-01-09    10.52\n",
       "1980-01-10    10.52\n",
       "1980-01-11    10.59\n",
       "1980-01-12    10.59\n",
       "1980-01-13    10.59"
      ]
     },
     "execution_count": 58,
     "metadata": {},
     "output_type": "execute_result"
    }
   ],
   "source": [
    "cmt.head(10)"
   ]
  },
  {
   "cell_type": "code",
   "execution_count": 59,
   "metadata": {
    "collapsed": false
   },
   "outputs": [],
   "source": [
    "cpi = CPIU.asfreq('D', method='pad') # fill forward\n",
    "gdp = gdp.asfreq('D', method='pad')\n",
    "rec = recession.asfreq('D', method='pad')"
   ]
  },
  {
   "cell_type": "code",
   "execution_count": 60,
   "metadata": {
    "collapsed": false
   },
   "outputs": [],
   "source": [
    "# how do the fill methods work?\n",
    "pd.DataFrame.asfreq?"
   ]
  },
  {
   "cell_type": "code",
   "execution_count": 61,
   "metadata": {
    "collapsed": false
   },
   "outputs": [],
   "source": [
    "eco_data_daily = pd.concat([cmt, cpi, gdp, rec], axis=1)\n",
    "eco_data_daily.columns =['CMT10', 'CPIU', 'GDP', \"Recession\"]"
   ]
  },
  {
   "cell_type": "code",
   "execution_count": 62,
   "metadata": {
    "collapsed": false
   },
   "outputs": [
    {
     "data": {
      "text/html": [
       "<div>\n",
       "<table border=\"1\" class=\"dataframe\">\n",
       "  <thead>\n",
       "    <tr style=\"text-align: right;\">\n",
       "      <th></th>\n",
       "      <th>CMT10</th>\n",
       "      <th>CPIU</th>\n",
       "      <th>GDP</th>\n",
       "      <th>Recession</th>\n",
       "    </tr>\n",
       "    <tr>\n",
       "      <th>DATE</th>\n",
       "      <th></th>\n",
       "      <th></th>\n",
       "      <th></th>\n",
       "      <th></th>\n",
       "    </tr>\n",
       "  </thead>\n",
       "  <tbody>\n",
       "    <tr>\n",
       "      <th>1980-01-01</th>\n",
       "      <td>NaN</td>\n",
       "      <td>78</td>\n",
       "      <td>2796.5</td>\n",
       "      <td>0</td>\n",
       "    </tr>\n",
       "    <tr>\n",
       "      <th>1980-01-02</th>\n",
       "      <td>NaN</td>\n",
       "      <td>78</td>\n",
       "      <td>2796.5</td>\n",
       "      <td>0</td>\n",
       "    </tr>\n",
       "    <tr>\n",
       "      <th>1980-01-03</th>\n",
       "      <td>NaN</td>\n",
       "      <td>78</td>\n",
       "      <td>2796.5</td>\n",
       "      <td>0</td>\n",
       "    </tr>\n",
       "    <tr>\n",
       "      <th>1980-01-04</th>\n",
       "      <td>10.52</td>\n",
       "      <td>78</td>\n",
       "      <td>2796.5</td>\n",
       "      <td>0</td>\n",
       "    </tr>\n",
       "    <tr>\n",
       "      <th>1980-01-05</th>\n",
       "      <td>10.52</td>\n",
       "      <td>78</td>\n",
       "      <td>2796.5</td>\n",
       "      <td>0</td>\n",
       "    </tr>\n",
       "    <tr>\n",
       "      <th>1980-01-06</th>\n",
       "      <td>10.52</td>\n",
       "      <td>78</td>\n",
       "      <td>2796.5</td>\n",
       "      <td>0</td>\n",
       "    </tr>\n",
       "    <tr>\n",
       "      <th>1980-01-07</th>\n",
       "      <td>10.52</td>\n",
       "      <td>78</td>\n",
       "      <td>2796.5</td>\n",
       "      <td>0</td>\n",
       "    </tr>\n",
       "    <tr>\n",
       "      <th>1980-01-08</th>\n",
       "      <td>10.52</td>\n",
       "      <td>78</td>\n",
       "      <td>2796.5</td>\n",
       "      <td>0</td>\n",
       "    </tr>\n",
       "    <tr>\n",
       "      <th>1980-01-09</th>\n",
       "      <td>10.52</td>\n",
       "      <td>78</td>\n",
       "      <td>2796.5</td>\n",
       "      <td>0</td>\n",
       "    </tr>\n",
       "    <tr>\n",
       "      <th>1980-01-10</th>\n",
       "      <td>10.52</td>\n",
       "      <td>78</td>\n",
       "      <td>2796.5</td>\n",
       "      <td>0</td>\n",
       "    </tr>\n",
       "  </tbody>\n",
       "</table>\n",
       "</div>"
      ],
      "text/plain": [
       "            CMT10  CPIU     GDP  Recession\n",
       "DATE                                      \n",
       "1980-01-01    NaN    78  2796.5          0\n",
       "1980-01-02    NaN    78  2796.5          0\n",
       "1980-01-03    NaN    78  2796.5          0\n",
       "1980-01-04  10.52    78  2796.5          0\n",
       "1980-01-05  10.52    78  2796.5          0\n",
       "1980-01-06  10.52    78  2796.5          0\n",
       "1980-01-07  10.52    78  2796.5          0\n",
       "1980-01-08  10.52    78  2796.5          0\n",
       "1980-01-09  10.52    78  2796.5          0\n",
       "1980-01-10  10.52    78  2796.5          0"
      ]
     },
     "execution_count": 62,
     "metadata": {},
     "output_type": "execute_result"
    }
   ],
   "source": [
    "eco_data_daily.head(10)"
   ]
  },
  {
   "cell_type": "code",
   "execution_count": 63,
   "metadata": {
    "collapsed": false
   },
   "outputs": [
    {
     "data": {
      "text/plain": [
       "(13150, 4)"
      ]
     },
     "execution_count": 63,
     "metadata": {},
     "output_type": "execute_result"
    }
   ],
   "source": [
    "eco_data_daily.shape"
   ]
  },
  {
   "cell_type": "code",
   "execution_count": 64,
   "metadata": {
    "collapsed": false
   },
   "outputs": [],
   "source": [
    "eco_data_qtly = eco_data_daily.resample('Q')"
   ]
  },
  {
   "cell_type": "code",
   "execution_count": 65,
   "metadata": {
    "collapsed": false
   },
   "outputs": [],
   "source": [
    "# pd.DataFrame.resample?"
   ]
  },
  {
   "cell_type": "code",
   "execution_count": 66,
   "metadata": {
    "collapsed": false
   },
   "outputs": [
    {
     "data": {
      "text/html": [
       "<div>\n",
       "<table border=\"1\" class=\"dataframe\">\n",
       "  <thead>\n",
       "    <tr style=\"text-align: right;\">\n",
       "      <th></th>\n",
       "      <th>CMT10</th>\n",
       "      <th>CPIU</th>\n",
       "      <th>GDP</th>\n",
       "      <th>Recession</th>\n",
       "    </tr>\n",
       "    <tr>\n",
       "      <th>DATE</th>\n",
       "      <th></th>\n",
       "      <th></th>\n",
       "      <th></th>\n",
       "      <th></th>\n",
       "    </tr>\n",
       "  </thead>\n",
       "  <tbody>\n",
       "    <tr>\n",
       "      <th>1980-03-31</th>\n",
       "      <td>11.877614</td>\n",
       "      <td>79.034066</td>\n",
       "      <td>2796.5</td>\n",
       "      <td>0.659341</td>\n",
       "    </tr>\n",
       "    <tr>\n",
       "      <th>1980-06-30</th>\n",
       "      <td>10.648571</td>\n",
       "      <td>81.700000</td>\n",
       "      <td>2799.9</td>\n",
       "      <td>1.000000</td>\n",
       "    </tr>\n",
       "    <tr>\n",
       "      <th>1980-09-30</th>\n",
       "      <td>10.831196</td>\n",
       "      <td>83.226087</td>\n",
       "      <td>2860.0</td>\n",
       "      <td>0.336957</td>\n",
       "    </tr>\n",
       "    <tr>\n",
       "      <th>1980-12-31</th>\n",
       "      <td>12.379457</td>\n",
       "      <td>85.566304</td>\n",
       "      <td>2993.5</td>\n",
       "      <td>0.000000</td>\n",
       "    </tr>\n",
       "    <tr>\n",
       "      <th>1981-03-31</th>\n",
       "      <td>12.902889</td>\n",
       "      <td>87.931111</td>\n",
       "      <td>3131.8</td>\n",
       "      <td>0.000000</td>\n",
       "    </tr>\n",
       "  </tbody>\n",
       "</table>\n",
       "</div>"
      ],
      "text/plain": [
       "                CMT10       CPIU     GDP  Recession\n",
       "DATE                                               \n",
       "1980-03-31  11.877614  79.034066  2796.5   0.659341\n",
       "1980-06-30  10.648571  81.700000  2799.9   1.000000\n",
       "1980-09-30  10.831196  83.226087  2860.0   0.336957\n",
       "1980-12-31  12.379457  85.566304  2993.5   0.000000\n",
       "1981-03-31  12.902889  87.931111  3131.8   0.000000"
      ]
     },
     "execution_count": 66,
     "metadata": {},
     "output_type": "execute_result"
    }
   ],
   "source": [
    "eco_data_qtly.head()"
   ]
  },
  {
   "cell_type": "code",
   "execution_count": 67,
   "metadata": {
    "collapsed": false
   },
   "outputs": [
    {
     "data": {
      "text/plain": [
       "<matplotlib.axes._subplots.AxesSubplot at 0x1097101d0>"
      ]
     },
     "execution_count": 67,
     "metadata": {},
     "output_type": "execute_result"
    },
    {
     "data": {
      "image/png": "[encoded data removed]",
      "text/plain": [
       "<matplotlib.figure.Figure at 0x107faf1d0>"
      ]
     },
     "metadata": {},
     "output_type": "display_data"
    }
   ],
   "source": [
    "eco_data_qtly.plot()"
   ]
  },
  {
   "cell_type": "markdown",
   "metadata": {},
   "source": [
    "Quarterly Percent Change"
   ]
  },
  {
   "cell_type": "code",
   "execution_count": 68,
   "metadata": {
    "collapsed": false
   },
   "outputs": [],
   "source": [
    "# Get rid of Recession flag before calculating percent changes\n",
    "to_drop = 'Recession'\n",
    "cols = list(eco_data_qtly.columns)\n",
    "cols.remove(to_drop)"
   ]
  },
  {
   "cell_type": "code",
   "execution_count": 69,
   "metadata": {
    "collapsed": false
   },
   "outputs": [
    {
     "data": {
      "text/plain": [
       "['CMT10', 'CPIU', 'GDP']"
      ]
     },
     "execution_count": 69,
     "metadata": {},
     "output_type": "execute_result"
    }
   ],
   "source": [
    "cols"
   ]
  },
  {
   "cell_type": "code",
   "execution_count": 70,
   "metadata": {
    "collapsed": false
   },
   "outputs": [],
   "source": [
    "# Two ways to calculate percent change\n",
    "eco_qtly_pch = eco_data_qtly.ix[:,cols].pct_change() # pandas convenience function\n",
    "eco_qtly_pch1 = eco_data_qtly.ix[:,cols].diff() / eco_data_qtly.ix[:,cols].shift() # manual calculation"
   ]
  },
  {
   "cell_type": "code",
   "execution_count": 71,
   "metadata": {
    "collapsed": false
   },
   "outputs": [
    {
     "data": {
      "text/html": [
       "<div>\n",
       "<table border=\"1\" class=\"dataframe\">\n",
       "  <thead>\n",
       "    <tr style=\"text-align: right;\">\n",
       "      <th></th>\n",
       "      <th>CMT10</th>\n",
       "      <th>CPIU</th>\n",
       "      <th>GDP</th>\n",
       "    </tr>\n",
       "    <tr>\n",
       "      <th>DATE</th>\n",
       "      <th></th>\n",
       "      <th></th>\n",
       "      <th></th>\n",
       "    </tr>\n",
       "  </thead>\n",
       "  <tbody>\n",
       "    <tr>\n",
       "      <th>1980-03-31</th>\n",
       "      <td>NaN</td>\n",
       "      <td>NaN</td>\n",
       "      <td>NaN</td>\n",
       "    </tr>\n",
       "    <tr>\n",
       "      <th>1980-06-30</th>\n",
       "      <td>-0.103476</td>\n",
       "      <td>0.033731</td>\n",
       "      <td>0.001216</td>\n",
       "    </tr>\n",
       "    <tr>\n",
       "      <th>1980-09-30</th>\n",
       "      <td>0.017150</td>\n",
       "      <td>0.018679</td>\n",
       "      <td>0.021465</td>\n",
       "    </tr>\n",
       "    <tr>\n",
       "      <th>1980-12-31</th>\n",
       "      <td>0.142945</td>\n",
       "      <td>0.028119</td>\n",
       "      <td>0.046678</td>\n",
       "    </tr>\n",
       "    <tr>\n",
       "      <th>1981-03-31</th>\n",
       "      <td>0.042282</td>\n",
       "      <td>0.027637</td>\n",
       "      <td>0.046200</td>\n",
       "    </tr>\n",
       "  </tbody>\n",
       "</table>\n",
       "</div>"
      ],
      "text/plain": [
       "               CMT10      CPIU       GDP\n",
       "DATE                                    \n",
       "1980-03-31       NaN       NaN       NaN\n",
       "1980-06-30 -0.103476  0.033731  0.001216\n",
       "1980-09-30  0.017150  0.018679  0.021465\n",
       "1980-12-31  0.142945  0.028119  0.046678\n",
       "1981-03-31  0.042282  0.027637  0.046200"
      ]
     },
     "execution_count": 71,
     "metadata": {},
     "output_type": "execute_result"
    }
   ],
   "source": [
    "eco_qtly_pch.head()"
   ]
  },
  {
   "cell_type": "code",
   "execution_count": 72,
   "metadata": {
    "collapsed": false
   },
   "outputs": [
    {
     "data": {
      "text/html": [
       "<div>\n",
       "<table border=\"1\" class=\"dataframe\">\n",
       "  <thead>\n",
       "    <tr style=\"text-align: right;\">\n",
       "      <th></th>\n",
       "      <th>CMT10</th>\n",
       "      <th>CPIU</th>\n",
       "      <th>GDP</th>\n",
       "    </tr>\n",
       "    <tr>\n",
       "      <th>DATE</th>\n",
       "      <th></th>\n",
       "      <th></th>\n",
       "      <th></th>\n",
       "    </tr>\n",
       "  </thead>\n",
       "  <tbody>\n",
       "    <tr>\n",
       "      <th>1980-03-31</th>\n",
       "      <td>NaN</td>\n",
       "      <td>NaN</td>\n",
       "      <td>NaN</td>\n",
       "    </tr>\n",
       "    <tr>\n",
       "      <th>1980-06-30</th>\n",
       "      <td>-0.103476</td>\n",
       "      <td>0.033731</td>\n",
       "      <td>0.001216</td>\n",
       "    </tr>\n",
       "    <tr>\n",
       "      <th>1980-09-30</th>\n",
       "      <td>0.017150</td>\n",
       "      <td>0.018679</td>\n",
       "      <td>0.021465</td>\n",
       "    </tr>\n",
       "    <tr>\n",
       "      <th>1980-12-31</th>\n",
       "      <td>0.142945</td>\n",
       "      <td>0.028119</td>\n",
       "      <td>0.046678</td>\n",
       "    </tr>\n",
       "    <tr>\n",
       "      <th>1981-03-31</th>\n",
       "      <td>0.042282</td>\n",
       "      <td>0.027637</td>\n",
       "      <td>0.046200</td>\n",
       "    </tr>\n",
       "  </tbody>\n",
       "</table>\n",
       "</div>"
      ],
      "text/plain": [
       "               CMT10      CPIU       GDP\n",
       "DATE                                    \n",
       "1980-03-31       NaN       NaN       NaN\n",
       "1980-06-30 -0.103476  0.033731  0.001216\n",
       "1980-09-30  0.017150  0.018679  0.021465\n",
       "1980-12-31  0.142945  0.028119  0.046678\n",
       "1981-03-31  0.042282  0.027637  0.046200"
      ]
     },
     "execution_count": 72,
     "metadata": {},
     "output_type": "execute_result"
    }
   ],
   "source": [
    "eco_qtly_pch1.head()"
   ]
  },
  {
   "cell_type": "code",
   "execution_count": 73,
   "metadata": {
    "collapsed": false
   },
   "outputs": [
    {
     "data": {
      "text/plain": [
       "True"
      ]
     },
     "execution_count": 73,
     "metadata": {},
     "output_type": "execute_result"
    }
   ],
   "source": [
    "all(abs(eco_qtly_pch1 - eco_qtly_pch) < 1e-10)"
   ]
  },
  {
   "cell_type": "code",
   "execution_count": 74,
   "metadata": {
    "collapsed": false
   },
   "outputs": [
    {
     "data": {
      "text/plain": [
       "<matplotlib.axes._subplots.AxesSubplot at 0x108f743d0>"
      ]
     },
     "execution_count": 74,
     "metadata": {},
     "output_type": "execute_result"
    },
    {
     "data": {
      "image/png": "[encoded data removed]",
      "text/plain": [
       "<matplotlib.figure.Figure at 0x108951d90>"
      ]
     },
     "metadata": {},
     "output_type": "display_data"
    }
   ],
   "source": [
    "eco_qtly_pch.plot(title=\"Quarterly % Change in Rates, CPI, and GDP\")"
   ]
  },
  {
   "cell_type": "code",
   "execution_count": 75,
   "metadata": {
    "collapsed": false
   },
   "outputs": [
    {
     "data": {
      "text/plain": [
       "<matplotlib.axes._subplots.AxesSubplot at 0x1087258d0>"
      ]
     },
     "execution_count": 75,
     "metadata": {},
     "output_type": "execute_result"
    },
    {
     "data": {
      "image/png": "[encoded data removed]",
      "text/plain": [
       "<matplotlib.figure.Figure at 0x1089cc590>"
      ]
     },
     "metadata": {},
     "output_type": "display_data"
    }
   ],
   "source": [
    "eco_data_ann = eco_data_daily.resample('A')\n",
    "eco_ann_pch = eco_data_ann[cols].pct_change() # note more consice notation\n",
    "eco_ann_pch.plot(title=\"Annual % change in Rates, CPI, GDP\")"
   ]
  },
  {
   "cell_type": "markdown",
   "metadata": {},
   "source": [
    "# Pivot Tables"
   ]
  },
  {
   "cell_type": "code",
   "execution_count": 76,
   "metadata": {
    "collapsed": false
   },
   "outputs": [],
   "source": [
    "r_flag = eco_data_daily['Recession'].asfreq('Q', method='pad')"
   ]
  },
  {
   "cell_type": "code",
   "execution_count": 77,
   "metadata": {
    "collapsed": false
   },
   "outputs": [
    {
     "data": {
      "text/html": [
       "<div>\n",
       "<table border=\"1\" class=\"dataframe\">\n",
       "  <thead>\n",
       "    <tr style=\"text-align: right;\">\n",
       "      <th></th>\n",
       "      <th>CMT10</th>\n",
       "      <th>CPIU</th>\n",
       "      <th>GDP</th>\n",
       "      <th>Recession</th>\n",
       "    </tr>\n",
       "    <tr>\n",
       "      <th>DATE</th>\n",
       "      <th></th>\n",
       "      <th></th>\n",
       "      <th></th>\n",
       "      <th></th>\n",
       "    </tr>\n",
       "  </thead>\n",
       "  <tbody>\n",
       "    <tr>\n",
       "      <th>1980-03-31</th>\n",
       "      <td>NaN</td>\n",
       "      <td>NaN</td>\n",
       "      <td>NaN</td>\n",
       "      <td>1</td>\n",
       "    </tr>\n",
       "    <tr>\n",
       "      <th>1980-06-30</th>\n",
       "      <td>-0.103476</td>\n",
       "      <td>0.033731</td>\n",
       "      <td>0.001216</td>\n",
       "      <td>1</td>\n",
       "    </tr>\n",
       "    <tr>\n",
       "      <th>1980-09-30</th>\n",
       "      <td>0.017150</td>\n",
       "      <td>0.018679</td>\n",
       "      <td>0.021465</td>\n",
       "      <td>0</td>\n",
       "    </tr>\n",
       "    <tr>\n",
       "      <th>1980-12-31</th>\n",
       "      <td>0.142945</td>\n",
       "      <td>0.028119</td>\n",
       "      <td>0.046678</td>\n",
       "      <td>0</td>\n",
       "    </tr>\n",
       "    <tr>\n",
       "      <th>1981-03-31</th>\n",
       "      <td>0.042282</td>\n",
       "      <td>0.027637</td>\n",
       "      <td>0.046200</td>\n",
       "      <td>0</td>\n",
       "    </tr>\n",
       "  </tbody>\n",
       "</table>\n",
       "</div>"
      ],
      "text/plain": [
       "               CMT10      CPIU       GDP  Recession\n",
       "DATE                                               \n",
       "1980-03-31       NaN       NaN       NaN          1\n",
       "1980-06-30 -0.103476  0.033731  0.001216          1\n",
       "1980-09-30  0.017150  0.018679  0.021465          0\n",
       "1980-12-31  0.142945  0.028119  0.046678          0\n",
       "1981-03-31  0.042282  0.027637  0.046200          0"
      ]
     },
     "execution_count": 77,
     "metadata": {},
     "output_type": "execute_result"
    }
   ],
   "source": [
    "eco_q = pd.concat([eco_qtly_pch, r_flag], axis=1)\n",
    "eco_q.head()"
   ]
  },
  {
   "cell_type": "markdown",
   "metadata": {},
   "source": [
    "Quarterly change in GDP and CPI-U, conditioned on NBER Recession Indicator"
   ]
  },
  {
   "cell_type": "code",
   "execution_count": 78,
   "metadata": {
    "collapsed": false
   },
   "outputs": [
    {
     "data": {
      "text/html": [
       "<div>\n",
       "<table border=\"1\" class=\"dataframe\">\n",
       "  <thead>\n",
       "    <tr style=\"text-align: right;\">\n",
       "      <th></th>\n",
       "      <th>CPIU</th>\n",
       "      <th>GDP</th>\n",
       "    </tr>\n",
       "    <tr>\n",
       "      <th>Recession</th>\n",
       "      <th></th>\n",
       "      <th></th>\n",
       "    </tr>\n",
       "  </thead>\n",
       "  <tbody>\n",
       "    <tr>\n",
       "      <th>0</th>\n",
       "      <td>0.766450</td>\n",
       "      <td>1.476704</td>\n",
       "    </tr>\n",
       "    <tr>\n",
       "      <th>1</th>\n",
       "      <td>1.087594</td>\n",
       "      <td>0.385308</td>\n",
       "    </tr>\n",
       "  </tbody>\n",
       "</table>\n",
       "</div>"
      ],
      "text/plain": [
       "               CPIU       GDP\n",
       "Recession                    \n",
       "0          0.766450  1.476704\n",
       "1          1.087594  0.385308"
      ]
     },
     "execution_count": 78,
     "metadata": {},
     "output_type": "execute_result"
    }
   ],
   "source": [
    "pd.pivot_table(eco_q, index='Recession', values=['GDP', 'CPIU'], aggfunc=np.mean) * 100"
   ]
  },
  {
   "cell_type": "markdown",
   "metadata": {},
   "source": [
    "Exercise: \n",
    "1. Include changes in 10-year Treasury rates\n",
    "2. Annualize rates of change\n",
    "3. Recession indicator as columns"
   ]
  },
  {
   "cell_type": "code",
   "execution_count": 79,
   "metadata": {
    "collapsed": false
   },
   "outputs": [],
   "source": [
    "def qtly_to_annual(rate):\n",
    "    to_return = pd.Series([np.nan if np.isnan(r) else ((1+r)**4 - 1) for r in rate], index=rate.index)\n",
    "    return to_return"
   ]
  },
  {
   "cell_type": "code",
   "execution_count": 80,
   "metadata": {
    "collapsed": false
   },
   "outputs": [],
   "source": [
    "assert all(qtly_to_annual(pd.Series([0.05])) == pd.Series(1.05**4 - 1))"
   ]
  },
  {
   "cell_type": "code",
   "execution_count": 81,
   "metadata": {
    "collapsed": false
   },
   "outputs": [
    {
     "data": {
      "text/html": [
       "<div>\n",
       "<table border=\"1\" class=\"dataframe\">\n",
       "  <thead>\n",
       "    <tr style=\"text-align: right;\">\n",
       "      <th></th>\n",
       "      <th>CMT10</th>\n",
       "      <th>CPIU</th>\n",
       "      <th>GDP</th>\n",
       "    </tr>\n",
       "    <tr>\n",
       "      <th>DATE</th>\n",
       "      <th></th>\n",
       "      <th></th>\n",
       "      <th></th>\n",
       "    </tr>\n",
       "  </thead>\n",
       "  <tbody>\n",
       "    <tr>\n",
       "      <th>1980-03-31</th>\n",
       "      <td>NaN</td>\n",
       "      <td>NaN</td>\n",
       "      <td>NaN</td>\n",
       "    </tr>\n",
       "    <tr>\n",
       "      <th>1980-06-30</th>\n",
       "      <td>-0.103476</td>\n",
       "      <td>0.033731</td>\n",
       "      <td>0.001216</td>\n",
       "    </tr>\n",
       "    <tr>\n",
       "      <th>1980-09-30</th>\n",
       "      <td>0.017150</td>\n",
       "      <td>0.018679</td>\n",
       "      <td>0.021465</td>\n",
       "    </tr>\n",
       "    <tr>\n",
       "      <th>1980-12-31</th>\n",
       "      <td>0.142945</td>\n",
       "      <td>0.028119</td>\n",
       "      <td>0.046678</td>\n",
       "    </tr>\n",
       "    <tr>\n",
       "      <th>1981-03-31</th>\n",
       "      <td>0.042282</td>\n",
       "      <td>0.027637</td>\n",
       "      <td>0.046200</td>\n",
       "    </tr>\n",
       "  </tbody>\n",
       "</table>\n",
       "</div>"
      ],
      "text/plain": [
       "               CMT10      CPIU       GDP\n",
       "DATE                                    \n",
       "1980-03-31       NaN       NaN       NaN\n",
       "1980-06-30 -0.103476  0.033731  0.001216\n",
       "1980-09-30  0.017150  0.018679  0.021465\n",
       "1980-12-31  0.142945  0.028119  0.046678\n",
       "1981-03-31  0.042282  0.027637  0.046200"
      ]
     },
     "execution_count": 81,
     "metadata": {},
     "output_type": "execute_result"
    }
   ],
   "source": [
    "eco_qtly_pch.head()"
   ]
  },
  {
   "cell_type": "code",
   "execution_count": 82,
   "metadata": {
    "collapsed": false
   },
   "outputs": [],
   "source": [
    "ann_pch = eco_qtly_pch.apply(qtly_to_annual, axis=0)"
   ]
  },
  {
   "cell_type": "code",
   "execution_count": 83,
   "metadata": {
    "collapsed": false
   },
   "outputs": [],
   "source": [
    "ann = pd.concat([ann_pch, r_flag], axis=1)"
   ]
  },
  {
   "cell_type": "code",
   "execution_count": 84,
   "metadata": {
    "collapsed": false
   },
   "outputs": [
    {
     "data": {
      "text/html": [
       "<div>\n",
       "<table border=\"1\" class=\"dataframe\">\n",
       "  <thead>\n",
       "    <tr style=\"text-align: right;\">\n",
       "      <th></th>\n",
       "      <th>CMT10</th>\n",
       "      <th>CPIU</th>\n",
       "      <th>GDP</th>\n",
       "      <th>Recession</th>\n",
       "    </tr>\n",
       "    <tr>\n",
       "      <th>DATE</th>\n",
       "      <th></th>\n",
       "      <th></th>\n",
       "      <th></th>\n",
       "      <th></th>\n",
       "    </tr>\n",
       "  </thead>\n",
       "  <tbody>\n",
       "    <tr>\n",
       "      <th>1980-03-31</th>\n",
       "      <td>NaN</td>\n",
       "      <td>NaN</td>\n",
       "      <td>NaN</td>\n",
       "      <td>1</td>\n",
       "    </tr>\n",
       "    <tr>\n",
       "      <th>1980-06-30</th>\n",
       "      <td>-0.353976</td>\n",
       "      <td>0.141908</td>\n",
       "      <td>0.004872</td>\n",
       "      <td>1</td>\n",
       "    </tr>\n",
       "    <tr>\n",
       "      <th>1980-09-30</th>\n",
       "      <td>0.070385</td>\n",
       "      <td>0.076836</td>\n",
       "      <td>0.088664</td>\n",
       "      <td>0</td>\n",
       "    </tr>\n",
       "    <tr>\n",
       "      <th>1980-12-31</th>\n",
       "      <td>0.706478</td>\n",
       "      <td>0.117309</td>\n",
       "      <td>0.200198</td>\n",
       "      <td>0</td>\n",
       "    </tr>\n",
       "    <tr>\n",
       "      <th>1981-03-31</th>\n",
       "      <td>0.180162</td>\n",
       "      <td>0.115216</td>\n",
       "      <td>0.198006</td>\n",
       "      <td>0</td>\n",
       "    </tr>\n",
       "  </tbody>\n",
       "</table>\n",
       "</div>"
      ],
      "text/plain": [
       "               CMT10      CPIU       GDP  Recession\n",
       "DATE                                               \n",
       "1980-03-31       NaN       NaN       NaN          1\n",
       "1980-06-30 -0.353976  0.141908  0.004872          1\n",
       "1980-09-30  0.070385  0.076836  0.088664          0\n",
       "1980-12-31  0.706478  0.117309  0.200198          0\n",
       "1981-03-31  0.180162  0.115216  0.198006          0"
      ]
     },
     "execution_count": 84,
     "metadata": {},
     "output_type": "execute_result"
    }
   ],
   "source": [
    "ann.head()"
   ]
  },
  {
   "cell_type": "code",
   "execution_count": 85,
   "metadata": {
    "collapsed": false
   },
   "outputs": [],
   "source": [
    "pivot = pd.pivot_table(ann, index='Recession', values=['GDP', 'CPIU', 'CMT10'], \n",
    "                       aggfunc=np.mean)"
   ]
  },
  {
   "cell_type": "code",
   "execution_count": 86,
   "metadata": {
    "collapsed": false
   },
   "outputs": [
    {
     "data": {
      "text/html": [
       "<div>\n",
       "<table border=\"1\" class=\"dataframe\">\n",
       "  <thead>\n",
       "    <tr style=\"text-align: right;\">\n",
       "      <th>Recession</th>\n",
       "      <th>0.0</th>\n",
       "      <th>1.0</th>\n",
       "    </tr>\n",
       "  </thead>\n",
       "  <tbody>\n",
       "    <tr>\n",
       "      <th>CMT10</th>\n",
       "      <td>0.026256</td>\n",
       "      <td>-0.045463</td>\n",
       "    </tr>\n",
       "    <tr>\n",
       "      <th>CPIU</th>\n",
       "      <td>0.031149</td>\n",
       "      <td>0.045143</td>\n",
       "    </tr>\n",
       "    <tr>\n",
       "      <th>GDP</th>\n",
       "      <td>0.060698</td>\n",
       "      <td>0.016216</td>\n",
       "    </tr>\n",
       "  </tbody>\n",
       "</table>\n",
       "</div>"
      ],
      "text/plain": [
       "Recession         0         1\n",
       "CMT10      0.026256 -0.045463\n",
       "CPIU       0.031149  0.045143\n",
       "GDP        0.060698  0.016216"
      ]
     },
     "execution_count": 86,
     "metadata": {},
     "output_type": "execute_result"
    }
   ],
   "source": [
    "pivot.T"
   ]
  },
  {
   "cell_type": "markdown",
   "metadata": {},
   "source": [
    "# Unemployed by Duration\n",
    "\n"
   ]
  },
  {
   "cell_type": "code",
   "execution_count": 87,
   "metadata": {
    "collapsed": false
   },
   "outputs": [],
   "source": [
    "id_list = ['UEMPLT5', 'UEMP5TO14', 'UEMP15T26', 'UEMP27OV']\n",
    "unemp_df = web.DataReader(id_list, 'fred', start='01/01/1948')"
   ]
  },
  {
   "cell_type": "code",
   "execution_count": 88,
   "metadata": {
    "collapsed": false
   },
   "outputs": [],
   "source": [
    "unemp_df['unemp_sum'] = unemp_df[id_list].sum(axis=1)"
   ]
  },
  {
   "cell_type": "code",
   "execution_count": 89,
   "metadata": {
    "collapsed": false
   },
   "outputs": [],
   "source": [
    "pct_names = []\n",
    "for col in id_list:\n",
    "    pct_label = col+'_pct'\n",
    "    unemp_df[pct_label] = unemp_df[col] / unemp_df['unemp_sum']\n",
    "    pct_names.append(pct_label)"
   ]
  },
  {
   "cell_type": "code",
   "execution_count": 90,
   "metadata": {
    "collapsed": false
   },
   "outputs": [
    {
     "data": {
      "text/html": [
       "<div>\n",
       "<table border=\"1\" class=\"dataframe\">\n",
       "  <thead>\n",
       "    <tr style=\"text-align: right;\">\n",
       "      <th></th>\n",
       "      <th>UEMPLT5</th>\n",
       "      <th>UEMP5TO14</th>\n",
       "      <th>UEMP15T26</th>\n",
       "      <th>UEMP27OV</th>\n",
       "      <th>unemp_sum</th>\n",
       "      <th>UEMPLT5_pct</th>\n",
       "      <th>UEMP5TO14_pct</th>\n",
       "      <th>UEMP15T26_pct</th>\n",
       "      <th>UEMP27OV_pct</th>\n",
       "    </tr>\n",
       "    <tr>\n",
       "      <th>DATE</th>\n",
       "      <th></th>\n",
       "      <th></th>\n",
       "      <th></th>\n",
       "      <th></th>\n",
       "      <th></th>\n",
       "      <th></th>\n",
       "      <th></th>\n",
       "      <th></th>\n",
       "      <th></th>\n",
       "    </tr>\n",
       "  </thead>\n",
       "  <tbody>\n",
       "    <tr>\n",
       "      <th>1948-01-01</th>\n",
       "      <td>1188</td>\n",
       "      <td>507</td>\n",
       "      <td>183</td>\n",
       "      <td>128</td>\n",
       "      <td>2006</td>\n",
       "      <td>0.592223</td>\n",
       "      <td>0.252742</td>\n",
       "      <td>0.091226</td>\n",
       "      <td>0.063809</td>\n",
       "    </tr>\n",
       "    <tr>\n",
       "      <th>1948-02-01</th>\n",
       "      <td>1377</td>\n",
       "      <td>677</td>\n",
       "      <td>162</td>\n",
       "      <td>121</td>\n",
       "      <td>2337</td>\n",
       "      <td>0.589217</td>\n",
       "      <td>0.289688</td>\n",
       "      <td>0.069320</td>\n",
       "      <td>0.051776</td>\n",
       "    </tr>\n",
       "    <tr>\n",
       "      <th>1948-03-01</th>\n",
       "      <td>1279</td>\n",
       "      <td>830</td>\n",
       "      <td>182</td>\n",
       "      <td>110</td>\n",
       "      <td>2401</td>\n",
       "      <td>0.532695</td>\n",
       "      <td>0.345689</td>\n",
       "      <td>0.075802</td>\n",
       "      <td>0.045814</td>\n",
       "    </tr>\n",
       "    <tr>\n",
       "      <th>1948-04-01</th>\n",
       "      <td>1461</td>\n",
       "      <td>694</td>\n",
       "      <td>215</td>\n",
       "      <td>109</td>\n",
       "      <td>2479</td>\n",
       "      <td>0.589351</td>\n",
       "      <td>0.279952</td>\n",
       "      <td>0.086729</td>\n",
       "      <td>0.043969</td>\n",
       "    </tr>\n",
       "    <tr>\n",
       "      <th>1948-05-01</th>\n",
       "      <td>1146</td>\n",
       "      <td>671</td>\n",
       "      <td>220</td>\n",
       "      <td>109</td>\n",
       "      <td>2146</td>\n",
       "      <td>0.534017</td>\n",
       "      <td>0.312675</td>\n",
       "      <td>0.102516</td>\n",
       "      <td>0.050792</td>\n",
       "    </tr>\n",
       "  </tbody>\n",
       "</table>\n",
       "</div>"
      ],
      "text/plain": [
       "            UEMPLT5  UEMP5TO14  UEMP15T26  UEMP27OV  unemp_sum  UEMPLT5_pct  \\\n",
       "DATE                                                                          \n",
       "1948-01-01     1188        507        183       128       2006     0.592223   \n",
       "1948-02-01     1377        677        162       121       2337     0.589217   \n",
       "1948-03-01     1279        830        182       110       2401     0.532695   \n",
       "1948-04-01     1461        694        215       109       2479     0.589351   \n",
       "1948-05-01     1146        671        220       109       2146     0.534017   \n",
       "\n",
       "            UEMP5TO14_pct  UEMP15T26_pct  UEMP27OV_pct  \n",
       "DATE                                                    \n",
       "1948-01-01       0.252742       0.091226      0.063809  \n",
       "1948-02-01       0.289688       0.069320      0.051776  \n",
       "1948-03-01       0.345689       0.075802      0.045814  \n",
       "1948-04-01       0.279952       0.086729      0.043969  \n",
       "1948-05-01       0.312675       0.102516      0.050792  "
      ]
     },
     "execution_count": 90,
     "metadata": {},
     "output_type": "execute_result"
    }
   ],
   "source": [
    "unemp_df.head()"
   ]
  },
  {
   "cell_type": "code",
   "execution_count": 91,
   "metadata": {
    "collapsed": false
   },
   "outputs": [
    {
     "data": {
      "text/plain": [
       "<matplotlib.axes._subplots.AxesSubplot at 0x10aac21d0>"
      ]
     },
     "execution_count": 91,
     "metadata": {},
     "output_type": "execute_result"
    },
    {
     "data": {
      "image/png": "[encoded data removed]",
      "text/plain": [
       "<matplotlib.figure.Figure at 0x10aab4850>"
      ]
     },
     "metadata": {},
     "output_type": "display_data"
    }
   ],
   "source": [
    "unemp_df[pct_names].plot(stacked=True, figsize=(10,6))"
   ]
  },
  {
   "cell_type": "code",
   "execution_count": null,
   "metadata": {
    "collapsed": false
   },
   "outputs": [],
   "source": []
  },
  {
   "cell_type": "code",
   "execution_count": null,
   "metadata": {
    "collapsed": false
   },
   "outputs": [],
   "source": []
  }
 ],
 "metadata": {
  "kernelspec": {
   "display_name": "Python 2",
   "language": "python",
   "name": "python2"
  },
  "language_info": {
   "codemirror_mode": {
    "name": "ipython",
    "version": 2
   },
   "file_extension": ".py",
   "mimetype": "text/x-python",
   "name": "python",
   "nbconvert_exporter": "python",
   "pygments_lexer": "ipython2",
   "version": "2.7.10"
  }
 },
 "nbformat": 4,
 "nbformat_minor": 0
}
